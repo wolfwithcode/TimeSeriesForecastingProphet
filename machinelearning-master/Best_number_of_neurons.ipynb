{
  "nbformat": 4,
  "nbformat_minor": 0,
  "metadata": {
    "colab": {
      "name": "Best number of neurons.ipynb",
      "provenance": [],
      "authorship_tag": "ABX9TyNOql4Q2htcn/g+xk29cGc0"
    },
    "kernelspec": {
      "name": "python3",
      "display_name": "Python 3"
    },
    "language_info": {
      "name": "python"
    }
  },
  "cells": [
    {
      "cell_type": "code",
      "metadata": {
        "id": "HBvcmeB5exNU"
      },
      "source": [
        "import numpy as np"
      ],
      "execution_count": 1,
      "outputs": []
    },
    {
      "cell_type": "code",
      "metadata": {
        "id": "8VrpdnQBe1ml"
      },
      "source": [
        "from sklearn.preprocessing import StandardScaler\n",
        "from sklearn.neural_network import MLPClassifier\n",
        "from sklearn.datasets import load_breast_cancer\n",
        "from sklearn.model_selection import train_test_split, GridSearchCV\n",
        "from sklearn.pipeline import Pipeline\n",
        "from sklearn.metrics import roc_auc_score"
      ],
      "execution_count": 10,
      "outputs": []
    },
    {
      "cell_type": "code",
      "metadata": {
        "id": "VOamkPGjfDSr"
      },
      "source": [
        "X,y = load_breast_cancer(return_X_y=True)"
      ],
      "execution_count": 3,
      "outputs": []
    },
    {
      "cell_type": "code",
      "metadata": {
        "id": "bsyA-VL8fE-z"
      },
      "source": [
        "X_train, X_test, y_train, y_test = train_test_split(X, y, test_size=0.33, random_state=42)"
      ],
      "execution_count": 5,
      "outputs": []
    },
    {
      "cell_type": "code",
      "metadata": {
        "id": "uUJ_Z62-fLJw"
      },
      "source": [
        "model = Pipeline([\n",
        "                  ('scaler',StandardScaler()),\n",
        "                  ('model',MLPClassifier(random_state=0))\n",
        "])"
      ],
      "execution_count": 22,
      "outputs": []
    },
    {
      "cell_type": "code",
      "metadata": {
        "id": "7kRl97p-fOj_"
      },
      "source": [
        "search = GridSearchCV(model,\n",
        "                      {'model__hidden_layer_sizes':[(x,) for x in np.arange(5,100,2)]},\n",
        "                      cv = 5, scoring = \"roc_auc\", verbose=3, n_jobs = -1\n",
        "                      \n",
        "                      )"
      ],
      "execution_count": 23,
      "outputs": []
    },
    {
      "cell_type": "code",
      "metadata": {
        "colab": {
          "base_uri": "https://localhost:8080/"
        },
        "id": "tu1qJj6zfcTn",
        "outputId": "b1c5f43c-bc95-4fef-ae7a-c8973ae6cc64"
      },
      "source": [
        "search.fit(X_train, y_train)"
      ],
      "execution_count": 24,
      "outputs": [
        {
          "output_type": "stream",
          "text": [
            "Fitting 5 folds for each of 48 candidates, totalling 240 fits\n"
          ],
          "name": "stdout"
        },
        {
          "output_type": "stream",
          "text": [
            "[Parallel(n_jobs=-1)]: Using backend LokyBackend with 2 concurrent workers.\n",
            "[Parallel(n_jobs=-1)]: Done  28 tasks      | elapsed:    5.2s\n",
            "[Parallel(n_jobs=-1)]: Done 124 tasks      | elapsed:   23.3s\n",
            "[Parallel(n_jobs=-1)]: Done 240 out of 240 | elapsed:   51.4s finished\n",
            "/usr/local/lib/python3.7/dist-packages/sklearn/neural_network/_multilayer_perceptron.py:571: ConvergenceWarning: Stochastic Optimizer: Maximum iterations (200) reached and the optimization hasn't converged yet.\n",
            "  % self.max_iter, ConvergenceWarning)\n"
          ],
          "name": "stderr"
        },
        {
          "output_type": "execute_result",
          "data": {
            "text/plain": [
              "GridSearchCV(cv=5, error_score=nan,\n",
              "             estimator=Pipeline(memory=None,\n",
              "                                steps=[('scaler',\n",
              "                                        StandardScaler(copy=True,\n",
              "                                                       with_mean=True,\n",
              "                                                       with_std=True)),\n",
              "                                       ('model',\n",
              "                                        MLPClassifier(activation='relu',\n",
              "                                                      alpha=0.0001,\n",
              "                                                      batch_size='auto',\n",
              "                                                      beta_1=0.9, beta_2=0.999,\n",
              "                                                      early_stopping=False,\n",
              "                                                      epsilon=1e-08,\n",
              "                                                      hidden_layer_sizes=(100,),\n",
              "                                                      learning_rate='constant',\n",
              "                                                      learning_rate_init=0.001,\n",
              "                                                      max_f...\n",
              "                                verbose=False),\n",
              "             iid='deprecated', n_jobs=-1,\n",
              "             param_grid={'model__hidden_layer_sizes': [(5,), (7,), (9,), (11,),\n",
              "                                                       (13,), (15,), (17,),\n",
              "                                                       (19,), (21,), (23,),\n",
              "                                                       (25,), (27,), (29,),\n",
              "                                                       (31,), (33,), (35,),\n",
              "                                                       (37,), (39,), (41,),\n",
              "                                                       (43,), (45,), (47,),\n",
              "                                                       (49,), (51,), (53,),\n",
              "                                                       (55,), (57,), (59,),\n",
              "                                                       (61,), (63,), ...]},\n",
              "             pre_dispatch='2*n_jobs', refit=True, return_train_score=False,\n",
              "             scoring='roc_auc', verbose=3)"
            ]
          },
          "metadata": {
            "tags": []
          },
          "execution_count": 24
        }
      ]
    },
    {
      "cell_type": "code",
      "metadata": {
        "colab": {
          "base_uri": "https://localhost:8080/"
        },
        "id": "-2f7omgmfdzk",
        "outputId": "e83191c7-03bb-4582-f8c3-54b02872071f"
      },
      "source": [
        "search.best_score_"
      ],
      "execution_count": 25,
      "outputs": [
        {
          "output_type": "execute_result",
          "data": {
            "text/plain": [
              "0.9947175348495965"
            ]
          },
          "metadata": {
            "tags": []
          },
          "execution_count": 25
        }
      ]
    },
    {
      "cell_type": "code",
      "metadata": {
        "colab": {
          "base_uri": "https://localhost:8080/"
        },
        "id": "3MHVzATmfgpG",
        "outputId": "db2a38d8-5919-4fd9-bb89-f5389d61df92"
      },
      "source": [
        "search.best_params_"
      ],
      "execution_count": 26,
      "outputs": [
        {
          "output_type": "execute_result",
          "data": {
            "text/plain": [
              "{'model__hidden_layer_sizes': (75,)}"
            ]
          },
          "metadata": {
            "tags": []
          },
          "execution_count": 26
        }
      ]
    },
    {
      "cell_type": "code",
      "metadata": {
        "colab": {
          "base_uri": "https://localhost:8080/"
        },
        "id": "jkl5w4osfumy",
        "outputId": "cfc7a270-3614-4ed9-a5c3-09ac67362dab"
      },
      "source": [
        "roc_auc_score(y_test,search.predict_proba(X_test)[:,1])"
      ],
      "execution_count": 27,
      "outputs": [
        {
          "output_type": "execute_result",
          "data": {
            "text/plain": [
              "0.9982730973233008"
            ]
          },
          "metadata": {
            "tags": []
          },
          "execution_count": 27
        }
      ]
    },
    {
      "cell_type": "code",
      "metadata": {
        "id": "wyS06oJff5cV"
      },
      "source": [
        ""
      ],
      "execution_count": null,
      "outputs": []
    }
  ]
}