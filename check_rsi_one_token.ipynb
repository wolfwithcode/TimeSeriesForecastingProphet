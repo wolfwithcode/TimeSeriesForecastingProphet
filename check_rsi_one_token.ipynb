{
 "cells": [
  {
   "cell_type": "raw",
   "id": "34f40e2b",
   "metadata": {
    "_cell_guid": "b1076dfc-b9ad-4769-8c92-a6c4dae69d19",
    "_uuid": "8f2839f25d086af736a60e9eeb907d3b93b6e0e5",
    "papermill": {
     "duration": 0.015509,
     "end_time": "2021-09-21T08:34:43.517386",
     "exception": false,
     "start_time": "2021-09-21T08:34:43.501877",
     "status": "completed"
    },
    "tags": []
   },
   "source": [
    "# This Python 3 environment comes with many helpful analytics libraries installed\n",
    "# It is defined by the kaggle/python Docker image: https://github.com/kaggle/docker-python\n",
    "# For example, here's several helpful packages to load\n",
    "\n",
    "import numpy as np # linear algebra\n",
    "import pandas as pd # data processing, CSV file I/O (e.g. pd.read_csv)\n",
    "\n",
    "# Input data files are available in the read-only \"../input/\" directory\n",
    "# For example, running this (by clicking run or pressing Shift+Enter) will list all files under the input directory\n",
    "\n",
    "import os\n",
    "for dirname, _, filenames in os.walk('/kaggle/input'):\n",
    "    for filename in filenames:\n",
    "        print(os.path.join(dirname, filename))\n",
    "\n",
    "# You can write up to 20GB to the current directory (/kaggle/working/) that gets preserved as output when you create a version using \"Save & Run All\" \n",
    "# You can also write temporary files to /kaggle/temp/, but they won't be saved outside of the current session"
   ]
  },
  {
   "cell_type": "code",
   "execution_count": 1,
   "id": "25fad545",
   "metadata": {
    "execution": {
     "iopub.execute_input": "2021-09-21T08:34:43.560612Z",
     "iopub.status.busy": "2021-09-21T08:34:43.559720Z",
     "iopub.status.idle": "2021-09-21T08:35:30.514998Z",
     "shell.execute_reply": "2021-09-21T08:35:30.514276Z",
     "shell.execute_reply.started": "2021-09-21T07:36:35.499936Z"
    },
    "papermill": {
     "duration": 46.981218,
     "end_time": "2021-09-21T08:35:30.515175",
     "exception": false,
     "start_time": "2021-09-21T08:34:43.533957",
     "status": "completed"
    },
    "tags": []
   },
   "outputs": [
    {
     "name": "stdout",
     "output_type": "stream",
     "text": [
      "Requirement already satisfied: tinydb in c:\\programdata\\anaconda3\\lib\\site-packages (4.5.1)\n",
      "Collecting pandas_ta\n",
      "  Downloading pandas_ta-0.3.14b.tar.gz (115 kB)\n",
      "Requirement already satisfied: pandas in c:\\programdata\\anaconda3\\lib\\site-packages (from pandas_ta) (1.1.5)\n",
      "Requirement already satisfied: python-dateutil>=2.7.3 in c:\\programdata\\anaconda3\\lib\\site-packages (from pandas->pandas_ta) (2.8.2)\n",
      "Requirement already satisfied: pytz>=2017.2 in c:\\programdata\\anaconda3\\lib\\site-packages (from pandas->pandas_ta) (2021.1)\n",
      "Requirement already satisfied: numpy>=1.15.4 in c:\\programdata\\anaconda3\\lib\\site-packages (from pandas->pandas_ta) (1.19.5)\n",
      "Requirement already satisfied: six>=1.5 in c:\\programdata\\anaconda3\\lib\\site-packages (from python-dateutil>=2.7.3->pandas->pandas_ta) (1.16.0)\n",
      "Building wheels for collected packages: pandas-ta\n",
      "  Building wheel for pandas-ta (setup.py): started\n",
      "  Building wheel for pandas-ta (setup.py): finished with status 'done'\n",
      "  Created wheel for pandas-ta: filename=pandas_ta-0.3.14b0-py3-none-any.whl size=218925 sha256=6b3766e4da897c0c35b939f0bf8114d4abba2a738d864e9159d8e360cb29d21a\n",
      "  Stored in directory: c:\\users\\stb\\appdata\\local\\pip\\cache\\wheels\\54\\4a\\75\\06b8e63fce6f6d2c1baae5c208edb18eca128407b0c96e1153\n",
      "Successfully built pandas-ta\n",
      "Installing collected packages: pandas-ta\n",
      "Successfully installed pandas-ta-0.3.14b0\n",
      "Requirement already satisfied: python-binance in c:\\programdata\\anaconda3\\lib\\site-packages (1.0.12)\n",
      "Requirement already satisfied: ujson in c:\\programdata\\anaconda3\\lib\\site-packages (from python-binance) (4.0.2)\n",
      "Requirement already satisfied: requests in c:\\programdata\\anaconda3\\lib\\site-packages (from python-binance) (2.26.0)\n",
      "Requirement already satisfied: aiohttp in c:\\programdata\\anaconda3\\lib\\site-packages (from python-binance) (3.7.4.post0)\n",
      "Requirement already satisfied: websockets in c:\\programdata\\anaconda3\\lib\\site-packages (from python-binance) (9.1)\n",
      "Requirement already satisfied: six in c:\\programdata\\anaconda3\\lib\\site-packages (from python-binance) (1.16.0)\n",
      "Requirement already satisfied: dateparser in c:\\programdata\\anaconda3\\lib\\site-packages (from python-binance) (1.0.0)\n",
      "Requirement already satisfied: yarl<2.0,>=1.0 in c:\\programdata\\anaconda3\\lib\\site-packages (from aiohttp->python-binance) (1.6.3)\n",
      "Requirement already satisfied: attrs>=17.3.0 in c:\\programdata\\anaconda3\\lib\\site-packages (from aiohttp->python-binance) (21.2.0)\n",
      "Requirement already satisfied: typing-extensions>=3.6.5 in c:\\programdata\\anaconda3\\lib\\site-packages (from aiohttp->python-binance) (3.10.0.0)\n",
      "Requirement already satisfied: chardet<5.0,>=2.0 in c:\\programdata\\anaconda3\\lib\\site-packages (from aiohttp->python-binance) (4.0.0)\n",
      "Requirement already satisfied: multidict<7.0,>=4.5 in c:\\programdata\\anaconda3\\lib\\site-packages (from aiohttp->python-binance) (5.1.0)\n",
      "Requirement already satisfied: async-timeout<4.0,>=3.0 in c:\\programdata\\anaconda3\\lib\\site-packages (from aiohttp->python-binance) (3.0.1)\n",
      "Requirement already satisfied: idna>=2.0 in c:\\programdata\\anaconda3\\lib\\site-packages (from yarl<2.0,>=1.0->aiohttp->python-binance) (3.2)\n",
      "Requirement already satisfied: python-dateutil in c:\\programdata\\anaconda3\\lib\\site-packages (from dateparser->python-binance) (2.8.2)\n",
      "Requirement already satisfied: regex!=2019.02.19 in c:\\programdata\\anaconda3\\lib\\site-packages (from dateparser->python-binance) (2021.8.3)\n",
      "Requirement already satisfied: tzlocal in c:\\programdata\\anaconda3\\lib\\site-packages (from dateparser->python-binance) (2.1)\n",
      "Requirement already satisfied: pytz in c:\\programdata\\anaconda3\\lib\\site-packages (from dateparser->python-binance) (2021.1)\n",
      "Requirement already satisfied: certifi>=2017.4.17 in c:\\programdata\\anaconda3\\lib\\site-packages (from requests->python-binance) (2021.5.30)\n",
      "Requirement already satisfied: urllib3<1.27,>=1.21.1 in c:\\programdata\\anaconda3\\lib\\site-packages (from requests->python-binance) (1.26.6)\n",
      "Requirement already satisfied: charset-normalizer~=2.0.0 in c:\\programdata\\anaconda3\\lib\\site-packages (from requests->python-binance) (2.0.4)\n",
      "Requirement already satisfied: mplfinance in c:\\programdata\\anaconda3\\lib\\site-packages (0.12.7a17)\n",
      "Requirement already satisfied: pandas in c:\\programdata\\anaconda3\\lib\\site-packages (from mplfinance) (1.1.5)\n",
      "Requirement already satisfied: matplotlib in c:\\programdata\\anaconda3\\lib\\site-packages (from mplfinance) (3.3.4)\n",
      "Requirement already satisfied: pillow>=6.2.0 in c:\\programdata\\anaconda3\\lib\\site-packages (from matplotlib->mplfinance) (8.3.1)\n",
      "Requirement already satisfied: python-dateutil>=2.1 in c:\\programdata\\anaconda3\\lib\\site-packages (from matplotlib->mplfinance) (2.8.2)\n",
      "Requirement already satisfied: cycler>=0.10 in c:\\programdata\\anaconda3\\lib\\site-packages (from matplotlib->mplfinance) (0.10.0)\n",
      "Requirement already satisfied: numpy>=1.15 in c:\\programdata\\anaconda3\\lib\\site-packages (from matplotlib->mplfinance) (1.19.5)\n",
      "Requirement already satisfied: pyparsing!=2.0.4,!=2.1.2,!=2.1.6,>=2.0.3 in c:\\programdata\\anaconda3\\lib\\site-packages (from matplotlib->mplfinance) (2.4.7)\n",
      "Requirement already satisfied: kiwisolver>=1.0.1 in c:\\programdata\\anaconda3\\lib\\site-packages (from matplotlib->mplfinance) (1.3.1)\n",
      "Requirement already satisfied: six in c:\\programdata\\anaconda3\\lib\\site-packages (from cycler>=0.10->matplotlib->mplfinance) (1.16.0)\n",
      "Requirement already satisfied: pytz>=2017.2 in c:\\programdata\\anaconda3\\lib\\site-packages (from pandas->mplfinance) (2021.1)\n"
     ]
    }
   ],
   "source": [
    "!pip install tinydb \n",
    "!pip install pandas_ta\n",
    "!pip install python-binance\n",
    "# !pip install yfinance\n",
    "!pip install mplfinance"
   ]
  },
  {
   "cell_type": "code",
   "execution_count": 29,
   "id": "f103a2b8",
   "metadata": {
    "execution": {
     "iopub.execute_input": "2021-09-21T08:35:30.575772Z",
     "iopub.status.busy": "2021-09-21T08:35:30.575080Z",
     "iopub.status.idle": "2021-09-21T08:35:31.695250Z",
     "shell.execute_reply": "2021-09-21T08:35:31.694529Z",
     "shell.execute_reply.started": "2021-09-21T07:37:22.332250Z"
    },
    "papermill": {
     "duration": 1.15558,
     "end_time": "2021-09-21T08:35:31.695396",
     "exception": false,
     "start_time": "2021-09-21T08:35:30.539816",
     "status": "completed"
    },
    "tags": []
   },
   "outputs": [],
   "source": [
    "import os\n",
    "import sys\n",
    "import json\n",
    "# from dotenv import load_dotenv\n",
    "import asyncio\n",
    "import threading\n",
    "import datetime\n",
    "from multiprocessing import Pool, cpu_count\n",
    "import matplotlib.dates as mpl_dates\n",
    "# Other modules\n",
    "import pandas as pd\n",
    "import pandas_ta as ta\n",
    "from pandas.io import sql\n",
    "import numpy as np\n",
    "import matplotlib.pyplot as plt\n",
    "\n",
    "# python-binance module\n",
    "from binance.client import Client\n",
    "from binance import BinanceSocketManager\n",
    "from binance.enums import *\n",
    "\n",
    "# BINANCE_KEY = os.getenv('BINANCE_KEY')\n",
    "# BINANCE_SECRET = os.getenv('BINANCE_SECRET')\n",
    "BINANCE_KEY = ''\n",
    "BINANCE_SECRET = ''\n",
    "\n",
    "# connect binance\n",
    "client = Client(BINANCE_KEY, BINANCE_SECRET)\n"
   ]
  },
  {
   "cell_type": "code",
   "execution_count": 30,
   "id": "e374c770",
   "metadata": {
    "execution": {
     "iopub.execute_input": "2021-09-21T08:35:31.757479Z",
     "iopub.status.busy": "2021-09-21T08:35:31.752034Z",
     "iopub.status.idle": "2021-09-21T08:35:31.760266Z",
     "shell.execute_reply": "2021-09-21T08:35:31.760820Z",
     "shell.execute_reply.started": "2021-09-21T07:38:16.109753Z"
    },
    "papermill": {
     "duration": 0.041344,
     "end_time": "2021-09-21T08:35:31.761014",
     "exception": false,
     "start_time": "2021-09-21T08:35:31.719670",
     "status": "completed"
    },
    "tags": []
   },
   "outputs": [],
   "source": [
    "def get_candlestick_one_token(symbol):\n",
    "    df1 = pd.DataFrame(client.get_historical_klines(symbol,\n",
    "                                                       client.KLINE_INTERVAL_5MINUTE,\n",
    "                                                       \"1 day ago UTC\"\n",
    "                                                       ))\n",
    "    df1.columns = [\"Date\", \"Open\", \"High\", \"Low\", \"Close\", \"Volume\",\n",
    "                  \"Close_time\", \"Qav\", \"Num_trades\", \"Taker_base_vol\",\n",
    "                  \"Taker_quote_vol\", \"Is_best_match\"]\n",
    "    df_simple = df1[[\"Date\", \"Open\", \"High\", \"Low\", \"Close\", \"Volume\"]]\n",
    "    df_simple[[\"Open\", \"High\", \"Low\", \"Close\", \"Volume\"]] = df_simple[[\"Open\", \"High\", \"Low\", \"Close\", \"Volume\"]].apply(pd.to_numeric)\n",
    "    df_simple['Date_readonly'] = df_simple['Date'].apply(lambda x: datetime.datetime.fromtimestamp(x/1000).strftime('%Y-%m-%d %H:%M:%S'))\n",
    "    df_simple['Date'] = pd.to_datetime(df_simple['Date'])\n",
    "    df_simple['Date'] = df_simple['Date'].apply(mpl_dates.date2num)\n",
    "    df_simple['Date'] = df_simple['Date']*1000000\n",
    "    \n",
    "    return df_simple\n",
    "    "
   ]
  },
  {
   "cell_type": "code",
   "execution_count": 31,
   "id": "54f3ef81",
   "metadata": {},
   "outputs": [],
   "source": [
    "def analyse_rsi(df):\n",
    "    rsi = ta.rsi(df['Close'])\n",
    "    last_rsi =  rsi.iloc[-1]\n",
    "    return last_rsi"
   ]
  },
  {
   "cell_type": "code",
   "execution_count": 32,
   "id": "1c8bf3bd",
   "metadata": {},
   "outputs": [],
   "source": [
    "def get_rsi(symbol):\n",
    "    df = get_candlestick_one_token(symbol)\n",
    "    return analyse_rsi(df)\n",
    "    "
   ]
  },
  {
   "cell_type": "code",
   "execution_count": 33,
   "id": "7adf1489",
   "metadata": {},
   "outputs": [
    {
     "name": "stderr",
     "output_type": "stream",
     "text": [
      "/home/lenovo/.local/lib/python3.6/site-packages/ipykernel_launcher.py:11: SettingWithCopyWarning: \n",
      "A value is trying to be set on a copy of a slice from a DataFrame.\n",
      "Try using .loc[row_indexer,col_indexer] = value instead\n",
      "\n",
      "See the caveats in the documentation: https://pandas.pydata.org/pandas-docs/stable/user_guide/indexing.html#returning-a-view-versus-a-copy\n",
      "  # This is added back by InteractiveShellApp.init_path()\n",
      "/home/lenovo/.local/lib/python3.6/site-packages/ipykernel_launcher.py:12: SettingWithCopyWarning: \n",
      "A value is trying to be set on a copy of a slice from a DataFrame.\n",
      "Try using .loc[row_indexer,col_indexer] = value instead\n",
      "\n",
      "See the caveats in the documentation: https://pandas.pydata.org/pandas-docs/stable/user_guide/indexing.html#returning-a-view-versus-a-copy\n",
      "  if sys.path[0] == '':\n",
      "/home/lenovo/.local/lib/python3.6/site-packages/ipykernel_launcher.py:13: SettingWithCopyWarning: \n",
      "A value is trying to be set on a copy of a slice from a DataFrame.\n",
      "Try using .loc[row_indexer,col_indexer] = value instead\n",
      "\n",
      "See the caveats in the documentation: https://pandas.pydata.org/pandas-docs/stable/user_guide/indexing.html#returning-a-view-versus-a-copy\n",
      "  del sys.path[0]\n",
      "/home/lenovo/.local/lib/python3.6/site-packages/ipykernel_launcher.py:14: SettingWithCopyWarning: \n",
      "A value is trying to be set on a copy of a slice from a DataFrame.\n",
      "Try using .loc[row_indexer,col_indexer] = value instead\n",
      "\n",
      "See the caveats in the documentation: https://pandas.pydata.org/pandas-docs/stable/user_guide/indexing.html#returning-a-view-versus-a-copy\n",
      "  \n"
     ]
    },
    {
     "data": {
      "text/plain": [
       "53.76489614696657"
      ]
     },
     "execution_count": 33,
     "metadata": {},
     "output_type": "execute_result"
    }
   ],
   "source": [
    "get_rsi(\"NEARUSDT\")"
   ]
  },
  {
   "cell_type": "code",
   "execution_count": null,
   "id": "7fe23de9",
   "metadata": {},
   "outputs": [],
   "source": []
  },
  {
   "cell_type": "code",
   "execution_count": null,
   "id": "e2dd5efe",
   "metadata": {},
   "outputs": [],
   "source": []
  }
 ],
 "metadata": {
  "kernelspec": {
   "display_name": "Python 3",
   "language": "python",
   "name": "python3"
  },
  "language_info": {
   "codemirror_mode": {
    "name": "ipython",
    "version": 3
   },
   "file_extension": ".py",
   "mimetype": "text/x-python",
   "name": "python",
   "nbconvert_exporter": "python",
   "pygments_lexer": "ipython3",
   "version": "3.6.9"
  },
  "papermill": {
   "default_parameters": {},
   "duration": 170.61802,
   "end_time": "2021-09-21T08:37:26.397952",
   "environment_variables": {},
   "exception": null,
   "input_path": "__notebook__.ipynb",
   "output_path": "__notebook__.ipynb",
   "parameters": {},
   "start_time": "2021-09-21T08:34:35.779932",
   "version": "2.3.3"
  }
 },
 "nbformat": 4,
 "nbformat_minor": 5
}
