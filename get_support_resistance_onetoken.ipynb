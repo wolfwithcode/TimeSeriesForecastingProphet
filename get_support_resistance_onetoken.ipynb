{
 "cells": [
  {
   "cell_type": "raw",
   "id": "34f40e2b",
   "metadata": {
    "_cell_guid": "b1076dfc-b9ad-4769-8c92-a6c4dae69d19",
    "_uuid": "8f2839f25d086af736a60e9eeb907d3b93b6e0e5",
    "papermill": {
     "duration": 0.015509,
     "end_time": "2021-09-21T08:34:43.517386",
     "exception": false,
     "start_time": "2021-09-21T08:34:43.501877",
     "status": "completed"
    },
    "tags": []
   },
   "source": [
    "# This Python 3 environment comes with many helpful analytics libraries installed\n",
    "# It is defined by the kaggle/python Docker image: https://github.com/kaggle/docker-python\n",
    "# For example, here's several helpful packages to load\n",
    "\n",
    "import numpy as np # linear algebra\n",
    "import pandas as pd # data processing, CSV file I/O (e.g. pd.read_csv)\n",
    "\n",
    "# Input data files are available in the read-only \"../input/\" directory\n",
    "# For example, running this (by clicking run or pressing Shift+Enter) will list all files under the input directory\n",
    "\n",
    "import os\n",
    "for dirname, _, filenames in os.walk('/kaggle/input'):\n",
    "    for filename in filenames:\n",
    "        print(os.path.join(dirname, filename))\n",
    "\n",
    "# You can write up to 20GB to the current directory (/kaggle/working/) that gets preserved as output when you create a version using \"Save & Run All\" \n",
    "# You can also write temporary files to /kaggle/temp/, but they won't be saved outside of the current session"
   ]
  },
  {
   "cell_type": "code",
   "execution_count": 1,
   "id": "25fad545",
   "metadata": {
    "execution": {
     "iopub.execute_input": "2021-09-21T08:34:43.560612Z",
     "iopub.status.busy": "2021-09-21T08:34:43.559720Z",
     "iopub.status.idle": "2021-09-21T08:35:30.514998Z",
     "shell.execute_reply": "2021-09-21T08:35:30.514276Z",
     "shell.execute_reply.started": "2021-09-21T07:36:35.499936Z"
    },
    "papermill": {
     "duration": 46.981218,
     "end_time": "2021-09-21T08:35:30.515175",
     "exception": false,
     "start_time": "2021-09-21T08:34:43.533957",
     "status": "completed"
    },
    "tags": []
   },
   "outputs": [
    {
     "name": "stdout",
     "output_type": "stream",
     "text": [
      "Requirement already satisfied: tinydb in c:\\programdata\\anaconda3\\lib\\site-packages (4.5.1)\n",
      "Collecting pandas_ta\n",
      "  Downloading pandas_ta-0.3.14b.tar.gz (115 kB)\n",
      "Requirement already satisfied: pandas in c:\\programdata\\anaconda3\\lib\\site-packages (from pandas_ta) (1.1.5)\n",
      "Requirement already satisfied: python-dateutil>=2.7.3 in c:\\programdata\\anaconda3\\lib\\site-packages (from pandas->pandas_ta) (2.8.2)\n",
      "Requirement already satisfied: pytz>=2017.2 in c:\\programdata\\anaconda3\\lib\\site-packages (from pandas->pandas_ta) (2021.1)\n",
      "Requirement already satisfied: numpy>=1.15.4 in c:\\programdata\\anaconda3\\lib\\site-packages (from pandas->pandas_ta) (1.19.5)\n",
      "Requirement already satisfied: six>=1.5 in c:\\programdata\\anaconda3\\lib\\site-packages (from python-dateutil>=2.7.3->pandas->pandas_ta) (1.16.0)\n",
      "Building wheels for collected packages: pandas-ta\n",
      "  Building wheel for pandas-ta (setup.py): started\n",
      "  Building wheel for pandas-ta (setup.py): finished with status 'done'\n",
      "  Created wheel for pandas-ta: filename=pandas_ta-0.3.14b0-py3-none-any.whl size=218925 sha256=6b3766e4da897c0c35b939f0bf8114d4abba2a738d864e9159d8e360cb29d21a\n",
      "  Stored in directory: c:\\users\\stb\\appdata\\local\\pip\\cache\\wheels\\54\\4a\\75\\06b8e63fce6f6d2c1baae5c208edb18eca128407b0c96e1153\n",
      "Successfully built pandas-ta\n",
      "Installing collected packages: pandas-ta\n",
      "Successfully installed pandas-ta-0.3.14b0\n",
      "Requirement already satisfied: python-binance in c:\\programdata\\anaconda3\\lib\\site-packages (1.0.12)\n",
      "Requirement already satisfied: ujson in c:\\programdata\\anaconda3\\lib\\site-packages (from python-binance) (4.0.2)\n",
      "Requirement already satisfied: requests in c:\\programdata\\anaconda3\\lib\\site-packages (from python-binance) (2.26.0)\n",
      "Requirement already satisfied: aiohttp in c:\\programdata\\anaconda3\\lib\\site-packages (from python-binance) (3.7.4.post0)\n",
      "Requirement already satisfied: websockets in c:\\programdata\\anaconda3\\lib\\site-packages (from python-binance) (9.1)\n",
      "Requirement already satisfied: six in c:\\programdata\\anaconda3\\lib\\site-packages (from python-binance) (1.16.0)\n",
      "Requirement already satisfied: dateparser in c:\\programdata\\anaconda3\\lib\\site-packages (from python-binance) (1.0.0)\n",
      "Requirement already satisfied: yarl<2.0,>=1.0 in c:\\programdata\\anaconda3\\lib\\site-packages (from aiohttp->python-binance) (1.6.3)\n",
      "Requirement already satisfied: attrs>=17.3.0 in c:\\programdata\\anaconda3\\lib\\site-packages (from aiohttp->python-binance) (21.2.0)\n",
      "Requirement already satisfied: typing-extensions>=3.6.5 in c:\\programdata\\anaconda3\\lib\\site-packages (from aiohttp->python-binance) (3.10.0.0)\n",
      "Requirement already satisfied: chardet<5.0,>=2.0 in c:\\programdata\\anaconda3\\lib\\site-packages (from aiohttp->python-binance) (4.0.0)\n",
      "Requirement already satisfied: multidict<7.0,>=4.5 in c:\\programdata\\anaconda3\\lib\\site-packages (from aiohttp->python-binance) (5.1.0)\n",
      "Requirement already satisfied: async-timeout<4.0,>=3.0 in c:\\programdata\\anaconda3\\lib\\site-packages (from aiohttp->python-binance) (3.0.1)\n",
      "Requirement already satisfied: idna>=2.0 in c:\\programdata\\anaconda3\\lib\\site-packages (from yarl<2.0,>=1.0->aiohttp->python-binance) (3.2)\n",
      "Requirement already satisfied: python-dateutil in c:\\programdata\\anaconda3\\lib\\site-packages (from dateparser->python-binance) (2.8.2)\n",
      "Requirement already satisfied: regex!=2019.02.19 in c:\\programdata\\anaconda3\\lib\\site-packages (from dateparser->python-binance) (2021.8.3)\n",
      "Requirement already satisfied: tzlocal in c:\\programdata\\anaconda3\\lib\\site-packages (from dateparser->python-binance) (2.1)\n",
      "Requirement already satisfied: pytz in c:\\programdata\\anaconda3\\lib\\site-packages (from dateparser->python-binance) (2021.1)\n",
      "Requirement already satisfied: certifi>=2017.4.17 in c:\\programdata\\anaconda3\\lib\\site-packages (from requests->python-binance) (2021.5.30)\n",
      "Requirement already satisfied: urllib3<1.27,>=1.21.1 in c:\\programdata\\anaconda3\\lib\\site-packages (from requests->python-binance) (1.26.6)\n",
      "Requirement already satisfied: charset-normalizer~=2.0.0 in c:\\programdata\\anaconda3\\lib\\site-packages (from requests->python-binance) (2.0.4)\n",
      "Requirement already satisfied: mplfinance in c:\\programdata\\anaconda3\\lib\\site-packages (0.12.7a17)\n",
      "Requirement already satisfied: pandas in c:\\programdata\\anaconda3\\lib\\site-packages (from mplfinance) (1.1.5)\n",
      "Requirement already satisfied: matplotlib in c:\\programdata\\anaconda3\\lib\\site-packages (from mplfinance) (3.3.4)\n",
      "Requirement already satisfied: pillow>=6.2.0 in c:\\programdata\\anaconda3\\lib\\site-packages (from matplotlib->mplfinance) (8.3.1)\n",
      "Requirement already satisfied: python-dateutil>=2.1 in c:\\programdata\\anaconda3\\lib\\site-packages (from matplotlib->mplfinance) (2.8.2)\n",
      "Requirement already satisfied: cycler>=0.10 in c:\\programdata\\anaconda3\\lib\\site-packages (from matplotlib->mplfinance) (0.10.0)\n",
      "Requirement already satisfied: numpy>=1.15 in c:\\programdata\\anaconda3\\lib\\site-packages (from matplotlib->mplfinance) (1.19.5)\n",
      "Requirement already satisfied: pyparsing!=2.0.4,!=2.1.2,!=2.1.6,>=2.0.3 in c:\\programdata\\anaconda3\\lib\\site-packages (from matplotlib->mplfinance) (2.4.7)\n",
      "Requirement already satisfied: kiwisolver>=1.0.1 in c:\\programdata\\anaconda3\\lib\\site-packages (from matplotlib->mplfinance) (1.3.1)\n",
      "Requirement already satisfied: six in c:\\programdata\\anaconda3\\lib\\site-packages (from cycler>=0.10->matplotlib->mplfinance) (1.16.0)\n",
      "Requirement already satisfied: pytz>=2017.2 in c:\\programdata\\anaconda3\\lib\\site-packages (from pandas->mplfinance) (2021.1)\n"
     ]
    }
   ],
   "source": [
    "!pip install tinydb \n",
    "!pip install pandas_ta\n",
    "!pip install python-binance\n",
    "# !pip install yfinance\n",
    "!pip install mplfinance"
   ]
  },
  {
   "cell_type": "code",
   "execution_count": 240,
   "id": "f103a2b8",
   "metadata": {
    "execution": {
     "iopub.execute_input": "2021-09-21T08:35:30.575772Z",
     "iopub.status.busy": "2021-09-21T08:35:30.575080Z",
     "iopub.status.idle": "2021-09-21T08:35:31.695250Z",
     "shell.execute_reply": "2021-09-21T08:35:31.694529Z",
     "shell.execute_reply.started": "2021-09-21T07:37:22.332250Z"
    },
    "papermill": {
     "duration": 1.15558,
     "end_time": "2021-09-21T08:35:31.695396",
     "exception": false,
     "start_time": "2021-09-21T08:35:30.539816",
     "status": "completed"
    },
    "tags": []
   },
   "outputs": [],
   "source": [
    "from tinydb import TinyDB, Query\n",
    "import os\n",
    "import sys\n",
    "import json\n",
    "# from dotenv import load_dotenv\n",
    "import asyncio\n",
    "import threading\n",
    "import datetime as dt\n",
    "from multiprocessing import Pool, cpu_count\n",
    "\n",
    "# Other modules\n",
    "import pandas as pd\n",
    "import pandas_ta as ta\n",
    "from pandas.io import sql\n",
    "import numpy as np\n",
    "import matplotlib.pyplot as plt\n",
    "\n",
    "# python-binance module\n",
    "from binance.client import Client\n",
    "from binance import BinanceSocketManager\n",
    "from binance.enums import *\n",
    "\n",
    "# BINANCE_KEY = os.getenv('BINANCE_KEY')\n",
    "# BINANCE_SECRET = os.getenv('BINANCE_SECRET')\n",
    "BINANCE_KEY = ''\n",
    "BINANCE_SECRET = ''\n",
    "\n",
    "# connect binance\n",
    "client = Client(BINANCE_KEY, BINANCE_SECRET)\n",
    "\n",
    "import time\n"
   ]
  },
  {
   "cell_type": "code",
   "execution_count": 241,
   "id": "e374c770",
   "metadata": {
    "execution": {
     "iopub.execute_input": "2021-09-21T08:35:31.757479Z",
     "iopub.status.busy": "2021-09-21T08:35:31.752034Z",
     "iopub.status.idle": "2021-09-21T08:35:31.760266Z",
     "shell.execute_reply": "2021-09-21T08:35:31.760820Z",
     "shell.execute_reply.started": "2021-09-21T07:38:16.109753Z"
    },
    "papermill": {
     "duration": 0.041344,
     "end_time": "2021-09-21T08:35:31.761014",
     "exception": false,
     "start_time": "2021-09-21T08:35:31.719670",
     "status": "completed"
    },
    "tags": []
   },
   "outputs": [],
   "source": [
    "def get_candlestick_one_token(symbol):\n",
    "    df1 = pd.DataFrame(client.get_historical_klines(symbol,\n",
    "                                                       client.KLINE_INTERVAL_1HOUR,\n",
    "                                                       \"7 day ago UTC\"\n",
    "                                                       ))\n",
    "    df1.columns = [\"Date\", \"Open\", \"High\", \"Low\", \"Close\", \"Volume\",\n",
    "                  \"Close_time\", \"Qav\", \"Num_trades\", \"Taker_base_vol\",\n",
    "                  \"Taker_quote_vol\", \"Is_best_match\"]\n",
    "    df_simple = df1[[\"Date\", \"Open\", \"High\", \"Low\", \"Close\", \"Volume\"]]\n",
    "    df_simple[[\"Open\", \"High\", \"Low\", \"Close\", \"Volume\"]] = df_simple[[\"Open\", \"High\", \"Low\", \"Close\", \"Volume\"]].apply(pd.to_numeric)\n",
    "    df_simple['Date_readonly'] = df_simple['Date'].apply(lambda x: datetime.datetime.fromtimestamp(x/1000).strftime('%Y-%m-%d %H:%M:%S'))\n",
    "    df_simple['Date'] = pd.to_datetime(df_simple['Date'])\n",
    "    df_simple['Date'] = df_simple['Date'].apply(mpl_dates.date2num)\n",
    "    df_simple['Date'] = df_simple['Date']*1000000\n",
    "    \n",
    "    return df_simple\n",
    "    "
   ]
  },
  {
   "cell_type": "code",
   "execution_count": 242,
   "id": "0488207a",
   "metadata": {},
   "outputs": [],
   "source": [
    "# for visualization\n",
    "def plot_all(levels, df):    \n",
    "  fig, ax = plt.subplots(figsize=(16, 9))   \n",
    "#   candlestick_ohlc(ax,df.values,width=0.6, colorup='green', \n",
    "#     colordown='red', alpha=0.8)    \n",
    "  candlestick_ohlc(ax,df.values,colorup='green')    \n",
    "  date_format = mpl_dates.DateFormatter('%d %b %Y')\n",
    "  ax.xaxis.set_major_formatter(date_format)    \n",
    "  for level in levels:        \n",
    "    plt.hlines(level[1], xmin = df['Date'][level[0]], xmax = \n",
    "      max(df['Date']), colors='blue', linestyle='--')    \n",
    "  fig.show()"
   ]
  },
  {
   "cell_type": "code",
   "execution_count": 243,
   "id": "58a4784f",
   "metadata": {
    "execution": {
     "iopub.execute_input": "2021-09-21T08:37:15.868825Z",
     "iopub.status.busy": "2021-09-21T08:37:15.863142Z",
     "iopub.status.idle": "2021-09-21T08:37:22.166768Z",
     "shell.execute_reply": "2021-09-21T08:37:22.166066Z",
     "shell.execute_reply.started": "2021-09-21T07:40:23.611292Z"
    },
    "papermill": {
     "duration": 6.392904,
     "end_time": "2021-09-21T08:37:22.166923",
     "exception": false,
     "start_time": "2021-09-21T08:37:15.774019",
     "status": "completed"
    },
    "tags": []
   },
   "outputs": [],
   "source": [
    "#method 1: fractal candlestick pattern\n",
    "# determine bullish fractal \n",
    "def is_support(df,i):  \n",
    "  cond1 = df['Low'][i] < df['Low'][i-1]   \n",
    "  cond2 = df['Low'][i] < df['Low'][i+1]   \n",
    "  cond3 = df['Low'][i+1] < df['Low'][i+2]   \n",
    "  cond4 = df['Low'][i-1] < df['Low'][i-2]  \n",
    "  return (cond1 and cond2 and cond3 and cond4) \n",
    "# determine bearish fractal\n",
    "def is_resistance(df,i):  \n",
    "  cond1 = df['High'][i] > df['High'][i-1]   \n",
    "  cond2 = df['High'][i] > df['High'][i+1]   \n",
    "  cond3 = df['High'][i+1] > df['High'][i+2]   \n",
    "  cond4 = df['High'][i-1] > df['High'][i-2]  \n",
    "  return (cond1 and cond2 and cond3 and cond4)\n",
    "# to make sure the new level area does not exist already\n",
    "def is_far_from_level(value, levels, df):    \n",
    "  ave =  np.mean(df['High'] - df['Low'])    \n",
    "  return np.sum([abs(value-level)<ave for _,level in levels])==0\n"
   ]
  },
  {
   "cell_type": "code",
   "execution_count": 244,
   "id": "1648814f",
   "metadata": {},
   "outputs": [],
   "source": [
    "#method 2: window shifting method\n",
    "#using the same symbol as the first example above\n",
    "def cal_support_resistance(symbol):\n",
    "    # df_NEAR = get_candlestick_one_token(symbol)\n",
    "    df = get_candlestick_one_token(symbol)\n",
    "    # a list to store resistance and support levels\n",
    "    levels = []\n",
    "    for i in range(2, df.shape[0] - 2):  \n",
    "      if is_support(df, i):    \n",
    "        low = df['Low'][i]    \n",
    "        if is_far_from_level(low, levels, df):      \n",
    "          levels.append((i, low))  \n",
    "      elif is_resistance(df, i):    \n",
    "        high = df['High'][i]    \n",
    "        if is_far_from_level(high, levels, df):      \n",
    "          levels.append((i, high))\n",
    "    pivots = []\n",
    "    max_list = []\n",
    "    min_list = []\n",
    "    for i in range(5, len(df)-5):\n",
    "      # taking a window of 9 candles\n",
    "      high_range = df['High'][i-5:i+4]\n",
    "      current_max = high_range.max()\n",
    "      # if we find a new maximum value, empty the max_list \n",
    "      if current_max not in max_list:\n",
    "        max_list = []\n",
    "      max_list.append(current_max)\n",
    "      # if the maximum value remains the same after shifting 5 times\n",
    "      if len(max_list)==5 and is_far_from_level(current_max,pivots,df):\n",
    "          pivots.append((high_range.idxmax(), current_max))\n",
    "\n",
    "      low_range = df['Low'][i-5:i+5]\n",
    "      current_min = low_range.min()\n",
    "      if current_min not in min_list:\n",
    "        min_list = []\n",
    "      min_list.append(current_min)\n",
    "      if len(min_list)==5 and is_far_from_level(current_min,pivots,df):\n",
    "        pivots.append((low_range.idxmin(), current_min))\n",
    "    return df , pivots"
   ]
  },
  {
   "cell_type": "code",
   "execution_count": 248,
   "id": "9568b448",
   "metadata": {},
   "outputs": [
    {
     "name": "stderr",
     "output_type": "stream",
     "text": [
      "<ipython-input-241-8e14b8673da7>:11: SettingWithCopyWarning: \n",
      "A value is trying to be set on a copy of a slice from a DataFrame.\n",
      "Try using .loc[row_indexer,col_indexer] = value instead\n",
      "\n",
      "See the caveats in the documentation: https://pandas.pydata.org/pandas-docs/stable/user_guide/indexing.html#returning-a-view-versus-a-copy\n",
      "  df_simple['Date_readonly'] = df_simple['Date'].apply(lambda x: datetime.datetime.fromtimestamp(x/1000).strftime('%Y-%m-%d %H:%M:%S'))\n",
      "<ipython-input-241-8e14b8673da7>:12: SettingWithCopyWarning: \n",
      "A value is trying to be set on a copy of a slice from a DataFrame.\n",
      "Try using .loc[row_indexer,col_indexer] = value instead\n",
      "\n",
      "See the caveats in the documentation: https://pandas.pydata.org/pandas-docs/stable/user_guide/indexing.html#returning-a-view-versus-a-copy\n",
      "  df_simple['Date'] = pd.to_datetime(df_simple['Date'])\n",
      "<ipython-input-241-8e14b8673da7>:13: SettingWithCopyWarning: \n",
      "A value is trying to be set on a copy of a slice from a DataFrame.\n",
      "Try using .loc[row_indexer,col_indexer] = value instead\n",
      "\n",
      "See the caveats in the documentation: https://pandas.pydata.org/pandas-docs/stable/user_guide/indexing.html#returning-a-view-versus-a-copy\n",
      "  df_simple['Date'] = df_simple['Date'].apply(mpl_dates.date2num)\n",
      "<ipython-input-241-8e14b8673da7>:14: SettingWithCopyWarning: \n",
      "A value is trying to be set on a copy of a slice from a DataFrame.\n",
      "Try using .loc[row_indexer,col_indexer] = value instead\n",
      "\n",
      "See the caveats in the documentation: https://pandas.pydata.org/pandas-docs/stable/user_guide/indexing.html#returning-a-view-versus-a-copy\n",
      "  df_simple['Date'] = df_simple['Date']*1000000\n"
     ]
    }
   ],
   "source": [
    "df , pivots = cal_support_resistance(\"GALAUSDT\")"
   ]
  },
  {
   "cell_type": "code",
   "execution_count": 249,
   "id": "56eb0dd8",
   "metadata": {
    "execution": {
     "iopub.execute_input": "2021-09-21T08:37:25.697639Z",
     "iopub.status.busy": "2021-09-21T08:37:25.697001Z",
     "iopub.status.idle": "2021-09-21T08:37:25.699454Z",
     "shell.execute_reply": "2021-09-21T08:37:25.699937Z",
     "shell.execute_reply.started": "2021-09-21T08:22:13.112842Z"
    },
    "papermill": {
     "duration": 0.09634,
     "end_time": "2021-09-21T08:37:25.700098",
     "exception": false,
     "start_time": "2021-09-21T08:37:25.603758",
     "status": "completed"
    },
    "tags": []
   },
   "outputs": [
    {
     "data": {
      "text/plain": [
       "[0.08526, 0.0963, 0.11003, 0.12313, 0.1385, 0.14675]"
      ]
     },
     "execution_count": 249,
     "metadata": {},
     "output_type": "execute_result"
    }
   ],
   "source": [
    "values = []\n",
    "for element in pivots:\n",
    "    _, value =  element\n",
    "    values.append(value)\n",
    "values.sort()\n",
    "values"
   ]
  },
  {
   "cell_type": "code",
   "execution_count": 250,
   "id": "69ada117",
   "metadata": {},
   "outputs": [
    {
     "name": "stderr",
     "output_type": "stream",
     "text": [
      "<ipython-input-242-048204290d91>:12: UserWarning: Matplotlib is currently using module://ipykernel.pylab.backend_inline, which is a non-GUI backend, so cannot show the figure.\n",
      "  fig.show()\n"
     ]
    },
    {
     "data": {
      "image/png": "[encoded data removed]",
      "text/plain": [
       "<Figure size 1152x648 with 1 Axes>"
      ]
     },
     "metadata": {
      "needs_background": "light"
     },
     "output_type": "display_data"
    }
   ],
   "source": [
    "plot_all(pivots, df)"
   ]
  },
  {
   "cell_type": "code",
   "execution_count": null,
   "id": "9e6b728e",
   "metadata": {},
   "outputs": [],
   "source": []
  }
 ],
 "metadata": {
  "kernelspec": {
   "display_name": "Python 3",
   "language": "python",
   "name": "python3"
  },
  "language_info": {
   "codemirror_mode": {
    "name": "ipython",
    "version": 3
   },
   "file_extension": ".py",
   "mimetype": "text/x-python",
   "name": "python",
   "nbconvert_exporter": "python",
   "pygments_lexer": "ipython3",
   "version": "3.8.8"
  },
  "papermill": {
   "default_parameters": {},
   "duration": 170.61802,
   "end_time": "2021-09-21T08:37:26.397952",
   "environment_variables": {},
   "exception": null,
   "input_path": "__notebook__.ipynb",
   "output_path": "__notebook__.ipynb",
   "parameters": {},
   "start_time": "2021-09-21T08:34:35.779932",
   "version": "2.3.3"
  }
 },
 "nbformat": 4,
 "nbformat_minor": 5
}
