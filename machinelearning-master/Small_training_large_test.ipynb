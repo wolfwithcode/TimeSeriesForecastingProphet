{
  "nbformat": 4,
  "nbformat_minor": 0,
  "metadata": {
    "colab": {
      "name": "Small training large test.ipynb",
      "provenance": [],
      "authorship_tag": "ABX9TyNo9EJ1aG207dryxeiQbV6R"
    },
    "kernelspec": {
      "name": "python3",
      "display_name": "Python 3"
    }
  },
  "cells": [
    {
      "cell_type": "code",
      "metadata": {
        "id": "hD750Qyr8Zoh",
        "colab_type": "code",
        "colab": {}
      },
      "source": [
        "import numpy as np\n",
        "from sklearn.model_selection import train_test_split\n",
        "from sklearn.linear_model import LinearRegression\n",
        "from sklearn.metrics import mean_squared_error"
      ],
      "execution_count": 0,
      "outputs": []
    },
    {
      "cell_type": "markdown",
      "metadata": {
        "id": "jpuXIj1UB8qO",
        "colab_type": "text"
      },
      "source": [
        "# Simulate a dataset for a linear regression\n",
        "\n",
        "$$ y = x_1 + x_2 + x_3 + x_4 + \\epsilon $$\n",
        "\n",
        "The experimental error $\\epsilon$ is normally distributed."
      ]
    },
    {
      "cell_type": "code",
      "metadata": {
        "id": "9uqAnLwNCPRj",
        "colab_type": "code",
        "colab": {}
      },
      "source": [
        "np.random.seed(0)"
      ],
      "execution_count": 0,
      "outputs": []
    },
    {
      "cell_type": "code",
      "metadata": {
        "id": "xR-EfcTOAllW",
        "colab_type": "code",
        "colab": {}
      },
      "source": [
        "X = np.random.normal(size=4000000).reshape(1000000,4)"
      ],
      "execution_count": 0,
      "outputs": []
    },
    {
      "cell_type": "code",
      "metadata": {
        "id": "boTPEKeqA0ZI",
        "colab_type": "code",
        "colab": {}
      },
      "source": [
        "y = []\n",
        "\n",
        "for record in X:\n",
        "  y.append(np.sum(record) + np.random.normal())\n",
        "\n",
        "y = np.array(y)"
      ],
      "execution_count": 0,
      "outputs": []
    },
    {
      "cell_type": "markdown",
      "metadata": {
        "id": "5z2B8V1fCYLw",
        "colab_type": "text"
      },
      "source": [
        "## Small test set, large training set"
      ]
    },
    {
      "cell_type": "code",
      "metadata": {
        "id": "HfmW4GJv8ms6",
        "colab_type": "code",
        "colab": {}
      },
      "source": [
        "X_train, X_test, y_train, y_test = train_test_split(X, y, test_size=0.2, random_state=42)"
      ],
      "execution_count": 0,
      "outputs": []
    },
    {
      "cell_type": "code",
      "metadata": {
        "id": "EnpH8TJw87cs",
        "colab_type": "code",
        "outputId": "0cf02b57-16a9-4351-bb31-b01dbdb915c3",
        "colab": {
          "base_uri": "https://localhost:8080/",
          "height": 34
        }
      },
      "source": [
        "model = LinearRegression()\n",
        "model.fit(X_train,y_train)"
      ],
      "execution_count": 0,
      "outputs": [
        {
          "output_type": "execute_result",
          "data": {
            "text/plain": [
              "LinearRegression(copy_X=True, fit_intercept=True, n_jobs=None, normalize=False)"
            ]
          },
          "metadata": {
            "tags": []
          },
          "execution_count": 181
        }
      ]
    },
    {
      "cell_type": "code",
      "metadata": {
        "id": "CsJIQ6tg9L3f",
        "colab_type": "code",
        "colab": {}
      },
      "source": [
        "def estimate_error(X_test,y_test):\n",
        "  n_iter = 100\n",
        "  np.random.seed(0)\n",
        "  errors = []\n",
        "\n",
        "  indices = list(range(X_test.shape[0]))\n",
        "  for i in range(n_iter):\n",
        "    new_indices = np.random.choice(indices,len(indices),replace=True)\n",
        "\n",
        "    new_X_test = X_test[new_indices]\n",
        "    new_y_test = y_test[new_indices]\n",
        "\n",
        "    new_y_pred = model.predict(new_X_test)\n",
        "\n",
        "    new_error = np.sqrt(mean_squared_error(new_y_test,new_y_pred))\n",
        "\n",
        "    errors.append(new_error)\n",
        "\n",
        "  return np.mean(errors),np.std(errors)"
      ],
      "execution_count": 0,
      "outputs": []
    },
    {
      "cell_type": "code",
      "metadata": {
        "id": "ok9eanO4-XmV",
        "colab_type": "code",
        "outputId": "c01b1886-9077-433b-bcf4-143b28e93252",
        "colab": {
          "base_uri": "https://localhost:8080/",
          "height": 34
        }
      },
      "source": [
        "estimate_error(X_test,y_test)"
      ],
      "execution_count": 0,
      "outputs": [
        {
          "output_type": "execute_result",
          "data": {
            "text/plain": [
              "(1.0028372852013618, 0.0015058423972133183)"
            ]
          },
          "metadata": {
            "tags": []
          },
          "execution_count": 184
        }
      ]
    },
    {
      "cell_type": "markdown",
      "metadata": {
        "id": "Rp8tEtTrCcYW",
        "colab_type": "text"
      },
      "source": [
        "## Large test set, small training set"
      ]
    },
    {
      "cell_type": "code",
      "metadata": {
        "id": "XU_e4_HE-dr1",
        "colab_type": "code",
        "colab": {}
      },
      "source": [
        "X_train, X_test, y_train, y_test = train_test_split(X, y, test_size=0.8, random_state=42)"
      ],
      "execution_count": 0,
      "outputs": []
    },
    {
      "cell_type": "code",
      "metadata": {
        "id": "FQmjqsyE-fZ9",
        "colab_type": "code",
        "outputId": "9f89ed55-c383-423b-d863-7ec3123fcbb4",
        "colab": {
          "base_uri": "https://localhost:8080/",
          "height": 34
        }
      },
      "source": [
        "model = LinearRegression()\n",
        "model.fit(X_train,y_train)"
      ],
      "execution_count": 0,
      "outputs": [
        {
          "output_type": "execute_result",
          "data": {
            "text/plain": [
              "LinearRegression(copy_X=True, fit_intercept=True, n_jobs=None, normalize=False)"
            ]
          },
          "metadata": {
            "tags": []
          },
          "execution_count": 186
        }
      ]
    },
    {
      "cell_type": "code",
      "metadata": {
        "id": "6OcToXeO-gzU",
        "colab_type": "code",
        "outputId": "fce2074b-f39f-4816-ac3b-8be8048e2c66",
        "colab": {
          "base_uri": "https://localhost:8080/",
          "height": 34
        }
      },
      "source": [
        "estimate_error(X_test,y_test)"
      ],
      "execution_count": 0,
      "outputs": [
        {
          "output_type": "execute_result",
          "data": {
            "text/plain": [
              "(1.0007244861649207, 0.000753571738923046)"
            ]
          },
          "metadata": {
            "tags": []
          },
          "execution_count": 187
        }
      ]
    },
    {
      "cell_type": "code",
      "metadata": {
        "id": "6OirFqEJDUfD",
        "colab_type": "code",
        "colab": {}
      },
      "source": [
        ""
      ],
      "execution_count": 0,
      "outputs": []
    }
  ]
}