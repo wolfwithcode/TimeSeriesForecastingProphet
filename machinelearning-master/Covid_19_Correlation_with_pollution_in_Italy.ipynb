{
  "nbformat": 4,
  "nbformat_minor": 0,
  "metadata": {
    "colab": {
      "name": "Covid-19 - Correlation with pollution in Italy.ipynb",
      "provenance": [],
      "authorship_tag": "ABX9TyOhIPwz+fXICt4aGqxc7e0q"
    },
    "kernelspec": {
      "name": "python3",
      "display_name": "Python 3"
    }
  },
  "cells": [
    {
      "cell_type": "code",
      "metadata": {
        "id": "EZwAKj6llO57",
        "colab_type": "code",
        "colab": {}
      },
      "source": [
        "import pandas as pd\n",
        "import numpy as np\n",
        "from datetime import datetime,timedelta\n",
        "\n",
        "from scipy.stats import fisher_exact,spearmanr\n",
        "\n",
        "import matplotlib.pyplot as plt\n",
        "%matplotlib inline"
      ],
      "execution_count": 0,
      "outputs": []
    },
    {
      "cell_type": "markdown",
      "metadata": {
        "id": "9Ul1-3deT5tI",
        "colab_type": "text"
      },
      "source": [
        "# Data preparation"
      ]
    },
    {
      "cell_type": "code",
      "metadata": {
        "id": "9xKOKf5IkoGq",
        "colab_type": "code",
        "colab": {}
      },
      "source": [
        "url_pollution = \"https://docs.google.com/spreadsheets/d/e/2PACX-1vSBF0Jz0IZezYodgtLRrQouH9KDuVJ5D3A12KAG263jDJT9xB3gKK7mlei7R316DCsRv1_AY9LVEOyk/pub?gid=1738056038&single=true&output=csv\""
      ],
      "execution_count": 0,
      "outputs": []
    },
    {
      "cell_type": "code",
      "metadata": {
        "id": "6CnXcIL2k8Pu",
        "colab_type": "code",
        "colab": {}
      },
      "source": [
        "url_infections = \"https://github.com/pcm-dpc/COVID-19/raw/master/dati-province/dpc-covid19-ita-province.csv\""
      ],
      "execution_count": 0,
      "outputs": []
    },
    {
      "cell_type": "code",
      "metadata": {
        "id": "3T2TuAJymGjV",
        "colab_type": "code",
        "colab": {}
      },
      "source": [
        "url_cities = \"https://docs.google.com/spreadsheets/d/e/2PACX-1vSBF0Jz0IZezYodgtLRrQouH9KDuVJ5D3A12KAG263jDJT9xB3gKK7mlei7R316DCsRv1_AY9LVEOyk/pub?gid=0&single=true&output=csv\""
      ],
      "execution_count": 0,
      "outputs": []
    },
    {
      "cell_type": "code",
      "metadata": {
        "id": "4bgYFpoBlL-R",
        "colab_type": "code",
        "colab": {}
      },
      "source": [
        "pollution = pd.read_csv(url_pollution)\n",
        "\n",
        "pollution = pollution[pollution['Country'] == 'Italy'][['City/Town','Annual mean, ug/m3']]"
      ],
      "execution_count": 0,
      "outputs": []
    },
    {
      "cell_type": "code",
      "metadata": {
        "id": "uFlapfyzTpjx",
        "colab_type": "code",
        "outputId": "2a91deee-8952-4f1b-8bb6-0d146f69202b",
        "colab": {
          "base_uri": "https://localhost:8080/",
          "height": 204
        }
      },
      "source": [
        "pollution.head()"
      ],
      "execution_count": 124,
      "outputs": [
        {
          "output_type": "execute_result",
          "data": {
            "text/html": [
              "<div>\n",
              "<style scoped>\n",
              "    .dataframe tbody tr th:only-of-type {\n",
              "        vertical-align: middle;\n",
              "    }\n",
              "\n",
              "    .dataframe tbody tr th {\n",
              "        vertical-align: top;\n",
              "    }\n",
              "\n",
              "    .dataframe thead th {\n",
              "        text-align: right;\n",
              "    }\n",
              "</style>\n",
              "<table border=\"1\" class=\"dataframe\">\n",
              "  <thead>\n",
              "    <tr style=\"text-align: right;\">\n",
              "      <th></th>\n",
              "      <th>City/Town</th>\n",
              "      <th>Annual mean, ug/m3</th>\n",
              "    </tr>\n",
              "  </thead>\n",
              "  <tbody>\n",
              "    <tr>\n",
              "      <th>2270</th>\n",
              "      <td>Acquapendente</td>\n",
              "      <td>14</td>\n",
              "    </tr>\n",
              "    <tr>\n",
              "      <th>2271</th>\n",
              "      <td>Acri</td>\n",
              "      <td>21</td>\n",
              "    </tr>\n",
              "    <tr>\n",
              "      <th>2272</th>\n",
              "      <td>Adria</td>\n",
              "      <td>35</td>\n",
              "    </tr>\n",
              "    <tr>\n",
              "      <th>2273</th>\n",
              "      <td>Alatri</td>\n",
              "      <td>28</td>\n",
              "    </tr>\n",
              "    <tr>\n",
              "      <th>2274</th>\n",
              "      <td>Alba</td>\n",
              "      <td>26</td>\n",
              "    </tr>\n",
              "  </tbody>\n",
              "</table>\n",
              "</div>"
            ],
            "text/plain": [
              "          City/Town  Annual mean, ug/m3\n",
              "2270  Acquapendente                  14\n",
              "2271           Acri                  21\n",
              "2272          Adria                  35\n",
              "2273         Alatri                  28\n",
              "2274           Alba                  26"
            ]
          },
          "metadata": {
            "tags": []
          },
          "execution_count": 124
        }
      ]
    },
    {
      "cell_type": "code",
      "metadata": {
        "id": "BzgGsupelaRY",
        "colab_type": "code",
        "colab": {}
      },
      "source": [
        "infections = pd.read_csv(url_infections)"
      ],
      "execution_count": 0,
      "outputs": []
    },
    {
      "cell_type": "code",
      "metadata": {
        "id": "wyaRhchvTr3m",
        "colab_type": "code",
        "outputId": "7acf6831-dc54-4ab8-ac26-a1585d155b72",
        "colab": {
          "base_uri": "https://localhost:8080/",
          "height": 289
        }
      },
      "source": [
        "infections.head()"
      ],
      "execution_count": 126,
      "outputs": [
        {
          "output_type": "execute_result",
          "data": {
            "text/html": [
              "<div>\n",
              "<style scoped>\n",
              "    .dataframe tbody tr th:only-of-type {\n",
              "        vertical-align: middle;\n",
              "    }\n",
              "\n",
              "    .dataframe tbody tr th {\n",
              "        vertical-align: top;\n",
              "    }\n",
              "\n",
              "    .dataframe thead th {\n",
              "        text-align: right;\n",
              "    }\n",
              "</style>\n",
              "<table border=\"1\" class=\"dataframe\">\n",
              "  <thead>\n",
              "    <tr style=\"text-align: right;\">\n",
              "      <th></th>\n",
              "      <th>data</th>\n",
              "      <th>stato</th>\n",
              "      <th>codice_regione</th>\n",
              "      <th>denominazione_regione</th>\n",
              "      <th>codice_provincia</th>\n",
              "      <th>denominazione_provincia</th>\n",
              "      <th>sigla_provincia</th>\n",
              "      <th>lat</th>\n",
              "      <th>long</th>\n",
              "      <th>totale_casi</th>\n",
              "    </tr>\n",
              "  </thead>\n",
              "  <tbody>\n",
              "    <tr>\n",
              "      <th>0</th>\n",
              "      <td>2020-02-24 18:00:00</td>\n",
              "      <td>ITA</td>\n",
              "      <td>13</td>\n",
              "      <td>Abruzzo</td>\n",
              "      <td>69</td>\n",
              "      <td>Chieti</td>\n",
              "      <td>CH</td>\n",
              "      <td>42.351032</td>\n",
              "      <td>14.167546</td>\n",
              "      <td>0</td>\n",
              "    </tr>\n",
              "    <tr>\n",
              "      <th>1</th>\n",
              "      <td>2020-02-24 18:00:00</td>\n",
              "      <td>ITA</td>\n",
              "      <td>13</td>\n",
              "      <td>Abruzzo</td>\n",
              "      <td>66</td>\n",
              "      <td>L'Aquila</td>\n",
              "      <td>AQ</td>\n",
              "      <td>42.351222</td>\n",
              "      <td>13.398438</td>\n",
              "      <td>0</td>\n",
              "    </tr>\n",
              "    <tr>\n",
              "      <th>2</th>\n",
              "      <td>2020-02-24 18:00:00</td>\n",
              "      <td>ITA</td>\n",
              "      <td>13</td>\n",
              "      <td>Abruzzo</td>\n",
              "      <td>68</td>\n",
              "      <td>Pescara</td>\n",
              "      <td>PE</td>\n",
              "      <td>42.464584</td>\n",
              "      <td>14.213648</td>\n",
              "      <td>0</td>\n",
              "    </tr>\n",
              "    <tr>\n",
              "      <th>3</th>\n",
              "      <td>2020-02-24 18:00:00</td>\n",
              "      <td>ITA</td>\n",
              "      <td>13</td>\n",
              "      <td>Abruzzo</td>\n",
              "      <td>67</td>\n",
              "      <td>Teramo</td>\n",
              "      <td>TE</td>\n",
              "      <td>42.658918</td>\n",
              "      <td>13.704400</td>\n",
              "      <td>0</td>\n",
              "    </tr>\n",
              "    <tr>\n",
              "      <th>4</th>\n",
              "      <td>2020-02-24 18:00:00</td>\n",
              "      <td>ITA</td>\n",
              "      <td>13</td>\n",
              "      <td>Abruzzo</td>\n",
              "      <td>979</td>\n",
              "      <td>In fase di definizione/aggiornamento</td>\n",
              "      <td>NaN</td>\n",
              "      <td>0.000000</td>\n",
              "      <td>0.000000</td>\n",
              "      <td>0</td>\n",
              "    </tr>\n",
              "  </tbody>\n",
              "</table>\n",
              "</div>"
            ],
            "text/plain": [
              "                  data stato  codice_regione  ...        lat       long totale_casi\n",
              "0  2020-02-24 18:00:00   ITA              13  ...  42.351032  14.167546           0\n",
              "1  2020-02-24 18:00:00   ITA              13  ...  42.351222  13.398438           0\n",
              "2  2020-02-24 18:00:00   ITA              13  ...  42.464584  14.213648           0\n",
              "3  2020-02-24 18:00:00   ITA              13  ...  42.658918  13.704400           0\n",
              "4  2020-02-24 18:00:00   ITA              13  ...   0.000000   0.000000           0\n",
              "\n",
              "[5 rows x 10 columns]"
            ]
          },
          "metadata": {
            "tags": []
          },
          "execution_count": 126
        }
      ]
    },
    {
      "cell_type": "markdown",
      "metadata": {
        "id": "FI5bbdChRtS8",
        "colab_type": "text"
      },
      "source": [
        "Converting dates into numbers"
      ]
    },
    {
      "cell_type": "code",
      "metadata": {
        "id": "_OCBLVDNyRO7",
        "colab_type": "code",
        "colab": {}
      },
      "source": [
        "FMT = '%Y-%m-%d %H:%M:%S'\n",
        "date = infections['data']\n",
        "infections['data'] = date.map(lambda x : (datetime.strptime(x, FMT) - datetime.strptime(\"2020-01-01 00:00:00\", FMT)).days  )"
      ],
      "execution_count": 0,
      "outputs": []
    },
    {
      "cell_type": "code",
      "metadata": {
        "id": "NVrjGc3SmMN4",
        "colab_type": "code",
        "outputId": "e89f2504-a74d-4a77-8212-11d5c59951fd",
        "colab": {
          "base_uri": "https://localhost:8080/",
          "height": 359
        }
      },
      "source": [
        "cities = pd.read_csv(url_cities).iloc[:,[4,10]]\n",
        " \n",
        "cities.rename(columns={'Denominazione (Italiana e straniera)':'city','Denominazione dell\\'Unità territoriale sovracomunale \\n(valida a fini statistici)':'province'},inplace=True)\n",
        "\n",
        "cities.head(10)"
      ],
      "execution_count": 128,
      "outputs": [
        {
          "output_type": "execute_result",
          "data": {
            "text/html": [
              "<div>\n",
              "<style scoped>\n",
              "    .dataframe tbody tr th:only-of-type {\n",
              "        vertical-align: middle;\n",
              "    }\n",
              "\n",
              "    .dataframe tbody tr th {\n",
              "        vertical-align: top;\n",
              "    }\n",
              "\n",
              "    .dataframe thead th {\n",
              "        text-align: right;\n",
              "    }\n",
              "</style>\n",
              "<table border=\"1\" class=\"dataframe\">\n",
              "  <thead>\n",
              "    <tr style=\"text-align: right;\">\n",
              "      <th></th>\n",
              "      <th>city</th>\n",
              "      <th>province</th>\n",
              "    </tr>\n",
              "  </thead>\n",
              "  <tbody>\n",
              "    <tr>\n",
              "      <th>0</th>\n",
              "      <td>Abano Terme</td>\n",
              "      <td>Padova</td>\n",
              "    </tr>\n",
              "    <tr>\n",
              "      <th>1</th>\n",
              "      <td>Abbadia Cerreto</td>\n",
              "      <td>Lodi</td>\n",
              "    </tr>\n",
              "    <tr>\n",
              "      <th>2</th>\n",
              "      <td>Abbadia Lariana</td>\n",
              "      <td>Lecco</td>\n",
              "    </tr>\n",
              "    <tr>\n",
              "      <th>3</th>\n",
              "      <td>Abbadia San Salvatore</td>\n",
              "      <td>Siena</td>\n",
              "    </tr>\n",
              "    <tr>\n",
              "      <th>4</th>\n",
              "      <td>Abbasanta</td>\n",
              "      <td>Oristano</td>\n",
              "    </tr>\n",
              "    <tr>\n",
              "      <th>5</th>\n",
              "      <td>Abbateggio</td>\n",
              "      <td>Pescara</td>\n",
              "    </tr>\n",
              "    <tr>\n",
              "      <th>6</th>\n",
              "      <td>Abbiategrasso</td>\n",
              "      <td>Milano</td>\n",
              "    </tr>\n",
              "    <tr>\n",
              "      <th>7</th>\n",
              "      <td>Abetone Cutigliano</td>\n",
              "      <td>Pistoia</td>\n",
              "    </tr>\n",
              "    <tr>\n",
              "      <th>8</th>\n",
              "      <td>Abriola</td>\n",
              "      <td>Potenza</td>\n",
              "    </tr>\n",
              "    <tr>\n",
              "      <th>9</th>\n",
              "      <td>Acate</td>\n",
              "      <td>Ragusa</td>\n",
              "    </tr>\n",
              "  </tbody>\n",
              "</table>\n",
              "</div>"
            ],
            "text/plain": [
              "                    city  province\n",
              "0            Abano Terme    Padova\n",
              "1        Abbadia Cerreto      Lodi\n",
              "2        Abbadia Lariana     Lecco\n",
              "3  Abbadia San Salvatore     Siena\n",
              "4              Abbasanta  Oristano\n",
              "5             Abbateggio   Pescara\n",
              "6          Abbiategrasso    Milano\n",
              "7     Abetone Cutigliano   Pistoia\n",
              "8                Abriola   Potenza\n",
              "9                  Acate    Ragusa"
            ]
          },
          "metadata": {
            "tags": []
          },
          "execution_count": 128
        }
      ]
    },
    {
      "cell_type": "code",
      "metadata": {
        "id": "Yh91cCJBmjqW",
        "colab_type": "code",
        "colab": {}
      },
      "source": [
        "merged_cities = pd.merge(pollution,cities,left_on=['City/Town'],right_on=['city'])\n",
        "\n"
      ],
      "execution_count": 0,
      "outputs": []
    },
    {
      "cell_type": "code",
      "metadata": {
        "id": "-FuUrHyLSRq7",
        "colab_type": "code",
        "colab": {
          "base_uri": "https://localhost:8080/",
          "height": 204
        },
        "outputId": "570c913e-224f-4a08-8773-12b17847b24a"
      },
      "source": [
        "merged_cities.head()"
      ],
      "execution_count": 151,
      "outputs": [
        {
          "output_type": "execute_result",
          "data": {
            "text/html": [
              "<div>\n",
              "<style scoped>\n",
              "    .dataframe tbody tr th:only-of-type {\n",
              "        vertical-align: middle;\n",
              "    }\n",
              "\n",
              "    .dataframe tbody tr th {\n",
              "        vertical-align: top;\n",
              "    }\n",
              "\n",
              "    .dataframe thead th {\n",
              "        text-align: right;\n",
              "    }\n",
              "</style>\n",
              "<table border=\"1\" class=\"dataframe\">\n",
              "  <thead>\n",
              "    <tr style=\"text-align: right;\">\n",
              "      <th></th>\n",
              "      <th>City/Town</th>\n",
              "      <th>Annual mean, ug/m3</th>\n",
              "      <th>city</th>\n",
              "      <th>province</th>\n",
              "    </tr>\n",
              "  </thead>\n",
              "  <tbody>\n",
              "    <tr>\n",
              "      <th>0</th>\n",
              "      <td>Acquapendente</td>\n",
              "      <td>14</td>\n",
              "      <td>Acquapendente</td>\n",
              "      <td>Viterbo</td>\n",
              "    </tr>\n",
              "    <tr>\n",
              "      <th>1</th>\n",
              "      <td>Acri</td>\n",
              "      <td>21</td>\n",
              "      <td>Acri</td>\n",
              "      <td>Cosenza</td>\n",
              "    </tr>\n",
              "    <tr>\n",
              "      <th>2</th>\n",
              "      <td>Adria</td>\n",
              "      <td>35</td>\n",
              "      <td>Adria</td>\n",
              "      <td>Rovigo</td>\n",
              "    </tr>\n",
              "    <tr>\n",
              "      <th>3</th>\n",
              "      <td>Alatri</td>\n",
              "      <td>28</td>\n",
              "      <td>Alatri</td>\n",
              "      <td>Frosinone</td>\n",
              "    </tr>\n",
              "    <tr>\n",
              "      <th>4</th>\n",
              "      <td>Alba</td>\n",
              "      <td>26</td>\n",
              "      <td>Alba</td>\n",
              "      <td>Cuneo</td>\n",
              "    </tr>\n",
              "  </tbody>\n",
              "</table>\n",
              "</div>"
            ],
            "text/plain": [
              "       City/Town  Annual mean, ug/m3           city   province\n",
              "0  Acquapendente                  14  Acquapendente    Viterbo\n",
              "1           Acri                  21           Acri    Cosenza\n",
              "2          Adria                  35          Adria     Rovigo\n",
              "3         Alatri                  28         Alatri  Frosinone\n",
              "4           Alba                  26           Alba      Cuneo"
            ]
          },
          "metadata": {
            "tags": []
          },
          "execution_count": 151
        }
      ]
    },
    {
      "cell_type": "markdown",
      "metadata": {
        "id": "MiyhDZ4b16nH",
        "colab_type": "text"
      },
      "source": [
        "Average pollution per province"
      ]
    },
    {
      "cell_type": "code",
      "metadata": {
        "id": "PC-8NqXCz-VP",
        "colab_type": "code",
        "colab": {}
      },
      "source": [
        "pollution_series = merged_cities.groupby('province')['Annual mean, ug/m3'].mean()"
      ],
      "execution_count": 0,
      "outputs": []
    },
    {
      "cell_type": "code",
      "metadata": {
        "id": "IyKz7TV-Sb1i",
        "colab_type": "code",
        "colab": {
          "base_uri": "https://localhost:8080/",
          "height": 136
        },
        "outputId": "c08d5c9b-fbfc-417f-8bed-732e970b2853"
      },
      "source": [
        "pollution_series.head()"
      ],
      "execution_count": 152,
      "outputs": [
        {
          "output_type": "execute_result",
          "data": {
            "text/plain": [
              "province\n",
              "Alessandria      21.750000\n",
              "Ancona           27.000000\n",
              "Arezzo           15.500000\n",
              "Ascoli Piceno    13.666667\n",
              "Asti             27.000000\n",
              "Name: Annual mean, ug/m3, dtype: float64"
            ]
          },
          "metadata": {
            "tags": []
          },
          "execution_count": 152
        }
      ]
    },
    {
      "cell_type": "code",
      "metadata": {
        "id": "57nynv3G0nN6",
        "colab_type": "code",
        "colab": {}
      },
      "source": [
        "pollution_province = pd.DataFrame({'province':list(pollution_series.index),'Annual mean, ug/m3':list(pollution_series)})"
      ],
      "execution_count": 0,
      "outputs": []
    },
    {
      "cell_type": "code",
      "metadata": {
        "id": "spP9GshO1rre",
        "colab_type": "code",
        "outputId": "9e7737a9-53a7-44f6-dad6-7c7ed11dd54b",
        "colab": {
          "base_uri": "https://localhost:8080/",
          "height": 359
        }
      },
      "source": [
        "pollution_province.head(10)"
      ],
      "execution_count": 148,
      "outputs": [
        {
          "output_type": "execute_result",
          "data": {
            "text/html": [
              "<div>\n",
              "<style scoped>\n",
              "    .dataframe tbody tr th:only-of-type {\n",
              "        vertical-align: middle;\n",
              "    }\n",
              "\n",
              "    .dataframe tbody tr th {\n",
              "        vertical-align: top;\n",
              "    }\n",
              "\n",
              "    .dataframe thead th {\n",
              "        text-align: right;\n",
              "    }\n",
              "</style>\n",
              "<table border=\"1\" class=\"dataframe\">\n",
              "  <thead>\n",
              "    <tr style=\"text-align: right;\">\n",
              "      <th></th>\n",
              "      <th>province</th>\n",
              "      <th>Annual mean, ug/m3</th>\n",
              "    </tr>\n",
              "  </thead>\n",
              "  <tbody>\n",
              "    <tr>\n",
              "      <th>0</th>\n",
              "      <td>Alessandria</td>\n",
              "      <td>21.750000</td>\n",
              "    </tr>\n",
              "    <tr>\n",
              "      <th>1</th>\n",
              "      <td>Ancona</td>\n",
              "      <td>27.000000</td>\n",
              "    </tr>\n",
              "    <tr>\n",
              "      <th>2</th>\n",
              "      <td>Arezzo</td>\n",
              "      <td>15.500000</td>\n",
              "    </tr>\n",
              "    <tr>\n",
              "      <th>3</th>\n",
              "      <td>Ascoli Piceno</td>\n",
              "      <td>13.666667</td>\n",
              "    </tr>\n",
              "    <tr>\n",
              "      <th>4</th>\n",
              "      <td>Asti</td>\n",
              "      <td>27.000000</td>\n",
              "    </tr>\n",
              "    <tr>\n",
              "      <th>5</th>\n",
              "      <td>Avellino</td>\n",
              "      <td>35.000000</td>\n",
              "    </tr>\n",
              "    <tr>\n",
              "      <th>6</th>\n",
              "      <td>Bari</td>\n",
              "      <td>24.000000</td>\n",
              "    </tr>\n",
              "    <tr>\n",
              "      <th>7</th>\n",
              "      <td>Barletta-Andria-Trani</td>\n",
              "      <td>23.000000</td>\n",
              "    </tr>\n",
              "    <tr>\n",
              "      <th>8</th>\n",
              "      <td>Belluno</td>\n",
              "      <td>21.000000</td>\n",
              "    </tr>\n",
              "    <tr>\n",
              "      <th>9</th>\n",
              "      <td>Benevento</td>\n",
              "      <td>41.000000</td>\n",
              "    </tr>\n",
              "  </tbody>\n",
              "</table>\n",
              "</div>"
            ],
            "text/plain": [
              "                province  Annual mean, ug/m3\n",
              "0            Alessandria           21.750000\n",
              "1                 Ancona           27.000000\n",
              "2                 Arezzo           15.500000\n",
              "3          Ascoli Piceno           13.666667\n",
              "4                   Asti           27.000000\n",
              "5               Avellino           35.000000\n",
              "6                   Bari           24.000000\n",
              "7  Barletta-Andria-Trani           23.000000\n",
              "8                Belluno           21.000000\n",
              "9              Benevento           41.000000"
            ]
          },
          "metadata": {
            "tags": []
          },
          "execution_count": 148
        }
      ]
    },
    {
      "cell_type": "markdown",
      "metadata": {
        "id": "GmIAL49EUBQf",
        "colab_type": "text"
      },
      "source": [
        "# Calculating daily infection rate (average of daily change of total infected people)"
      ]
    },
    {
      "cell_type": "code",
      "metadata": {
        "id": "_vLUNLh0nlEc",
        "colab_type": "code",
        "colab": {}
      },
      "source": [
        "infection_rate = pd.DataFrame({'province':[],'infection_rate':[]})\n",
        "\n",
        "for city in infections['denominazione_provincia'].unique():\n",
        "  # Only get days when there have been infected people\n",
        "  subset = infections[(infections['denominazione_provincia'] == city) & (infections['totale_casi'] > 0)].sort_values('data')\n",
        "  \n",
        "  # Mean value of the differences between consecutive points\n",
        "  city_infection_rate =  np.mean(subset['totale_casi'].diff(1)) \n",
        "  \n",
        "  infection_rate = infection_rate.append(pd.DataFrame({'province':[city],'infection_rate':[city_infection_rate]}))"
      ],
      "execution_count": 0,
      "outputs": []
    },
    {
      "cell_type": "code",
      "metadata": {
        "id": "HmX9W8mnTvat",
        "colab_type": "code",
        "outputId": "8bf4b9f2-f777-4997-b068-964236f82515",
        "colab": {
          "base_uri": "https://localhost:8080/",
          "height": 359
        }
      },
      "source": [
        "infection_rate.sort_values('infection_rate',ascending=False).head(10)"
      ],
      "execution_count": 134,
      "outputs": [
        {
          "output_type": "execute_result",
          "data": {
            "text/html": [
              "<div>\n",
              "<style scoped>\n",
              "    .dataframe tbody tr th:only-of-type {\n",
              "        vertical-align: middle;\n",
              "    }\n",
              "\n",
              "    .dataframe tbody tr th {\n",
              "        vertical-align: top;\n",
              "    }\n",
              "\n",
              "    .dataframe thead th {\n",
              "        text-align: right;\n",
              "    }\n",
              "</style>\n",
              "<table border=\"1\" class=\"dataframe\">\n",
              "  <thead>\n",
              "    <tr style=\"text-align: right;\">\n",
              "      <th></th>\n",
              "      <th>province</th>\n",
              "      <th>infection_rate</th>\n",
              "    </tr>\n",
              "  </thead>\n",
              "  <tbody>\n",
              "    <tr>\n",
              "      <th>0</th>\n",
              "      <td>Bergamo</td>\n",
              "      <td>234.040000</td>\n",
              "    </tr>\n",
              "    <tr>\n",
              "      <th>0</th>\n",
              "      <td>Brescia</td>\n",
              "      <td>209.416667</td>\n",
              "    </tr>\n",
              "    <tr>\n",
              "      <th>0</th>\n",
              "      <td>Milano</td>\n",
              "      <td>186.560000</td>\n",
              "    </tr>\n",
              "    <tr>\n",
              "      <th>0</th>\n",
              "      <td>Cremona</td>\n",
              "      <td>107.200000</td>\n",
              "    </tr>\n",
              "    <tr>\n",
              "      <th>0</th>\n",
              "      <td>Torino</td>\n",
              "      <td>67.080000</td>\n",
              "    </tr>\n",
              "    <tr>\n",
              "      <th>0</th>\n",
              "      <td>Piacenza</td>\n",
              "      <td>67.000000</td>\n",
              "    </tr>\n",
              "    <tr>\n",
              "      <th>0</th>\n",
              "      <td>Lodi</td>\n",
              "      <td>62.720000</td>\n",
              "    </tr>\n",
              "    <tr>\n",
              "      <th>0</th>\n",
              "      <td>Pesaro e Urbino</td>\n",
              "      <td>49.375000</td>\n",
              "    </tr>\n",
              "    <tr>\n",
              "      <th>0</th>\n",
              "      <td>Verona</td>\n",
              "      <td>47.600000</td>\n",
              "    </tr>\n",
              "    <tr>\n",
              "      <th>0</th>\n",
              "      <td>Pavia</td>\n",
              "      <td>46.680000</td>\n",
              "    </tr>\n",
              "  </tbody>\n",
              "</table>\n",
              "</div>"
            ],
            "text/plain": [
              "          province  infection_rate\n",
              "0          Bergamo      234.040000\n",
              "0          Brescia      209.416667\n",
              "0           Milano      186.560000\n",
              "0          Cremona      107.200000\n",
              "0           Torino       67.080000\n",
              "0         Piacenza       67.000000\n",
              "0             Lodi       62.720000\n",
              "0  Pesaro e Urbino       49.375000\n",
              "0           Verona       47.600000\n",
              "0            Pavia       46.680000"
            ]
          },
          "metadata": {
            "tags": []
          },
          "execution_count": 134
        }
      ]
    },
    {
      "cell_type": "markdown",
      "metadata": {
        "id": "9Mm042UUSgtW",
        "colab_type": "text"
      },
      "source": [
        "# Joining the datasets by city name"
      ]
    },
    {
      "cell_type": "code",
      "metadata": {
        "id": "Yp7GjfHtHGZH",
        "colab_type": "code",
        "colab": {}
      },
      "source": [
        "pollution_infections = pd.merge(pollution_province,infection_rate,left_on=['province'],right_on=['province'])[['province','Annual mean, ug/m3','infection_rate']]"
      ],
      "execution_count": 0,
      "outputs": []
    },
    {
      "cell_type": "code",
      "metadata": {
        "id": "rVGVdeO-Twxb",
        "colab_type": "code",
        "outputId": "031ee3f2-8651-4b95-e88f-a7e0ca8a60da",
        "colab": {
          "base_uri": "https://localhost:8080/",
          "height": 359
        }
      },
      "source": [
        "pollution_infections.head(10)"
      ],
      "execution_count": 136,
      "outputs": [
        {
          "output_type": "execute_result",
          "data": {
            "text/html": [
              "<div>\n",
              "<style scoped>\n",
              "    .dataframe tbody tr th:only-of-type {\n",
              "        vertical-align: middle;\n",
              "    }\n",
              "\n",
              "    .dataframe tbody tr th {\n",
              "        vertical-align: top;\n",
              "    }\n",
              "\n",
              "    .dataframe thead th {\n",
              "        text-align: right;\n",
              "    }\n",
              "</style>\n",
              "<table border=\"1\" class=\"dataframe\">\n",
              "  <thead>\n",
              "    <tr style=\"text-align: right;\">\n",
              "      <th></th>\n",
              "      <th>province</th>\n",
              "      <th>Annual mean, ug/m3</th>\n",
              "      <th>infection_rate</th>\n",
              "    </tr>\n",
              "  </thead>\n",
              "  <tbody>\n",
              "    <tr>\n",
              "      <th>0</th>\n",
              "      <td>Alessandria</td>\n",
              "      <td>21.750000</td>\n",
              "      <td>36.277778</td>\n",
              "    </tr>\n",
              "    <tr>\n",
              "      <th>1</th>\n",
              "      <td>Ancona</td>\n",
              "      <td>27.000000</td>\n",
              "      <td>28.150000</td>\n",
              "    </tr>\n",
              "    <tr>\n",
              "      <th>2</th>\n",
              "      <td>Arezzo</td>\n",
              "      <td>15.500000</td>\n",
              "      <td>7.105263</td>\n",
              "    </tr>\n",
              "    <tr>\n",
              "      <th>3</th>\n",
              "      <td>Ascoli Piceno</td>\n",
              "      <td>13.666667</td>\n",
              "      <td>4.900000</td>\n",
              "    </tr>\n",
              "    <tr>\n",
              "      <th>4</th>\n",
              "      <td>Asti</td>\n",
              "      <td>27.000000</td>\n",
              "      <td>6.789474</td>\n",
              "    </tr>\n",
              "    <tr>\n",
              "      <th>5</th>\n",
              "      <td>Avellino</td>\n",
              "      <td>35.000000</td>\n",
              "      <td>9.307692</td>\n",
              "    </tr>\n",
              "    <tr>\n",
              "      <th>6</th>\n",
              "      <td>Bari</td>\n",
              "      <td>24.000000</td>\n",
              "      <td>9.650000</td>\n",
              "    </tr>\n",
              "    <tr>\n",
              "      <th>7</th>\n",
              "      <td>Barletta-Andria-Trani</td>\n",
              "      <td>23.000000</td>\n",
              "      <td>1.823529</td>\n",
              "    </tr>\n",
              "    <tr>\n",
              "      <th>8</th>\n",
              "      <td>Belluno</td>\n",
              "      <td>21.000000</td>\n",
              "      <td>11.000000</td>\n",
              "    </tr>\n",
              "    <tr>\n",
              "      <th>9</th>\n",
              "      <td>Benevento</td>\n",
              "      <td>41.000000</td>\n",
              "      <td>0.538462</td>\n",
              "    </tr>\n",
              "  </tbody>\n",
              "</table>\n",
              "</div>"
            ],
            "text/plain": [
              "                province  Annual mean, ug/m3  infection_rate\n",
              "0            Alessandria           21.750000       36.277778\n",
              "1                 Ancona           27.000000       28.150000\n",
              "2                 Arezzo           15.500000        7.105263\n",
              "3          Ascoli Piceno           13.666667        4.900000\n",
              "4                   Asti           27.000000        6.789474\n",
              "5               Avellino           35.000000        9.307692\n",
              "6                   Bari           24.000000        9.650000\n",
              "7  Barletta-Andria-Trani           23.000000        1.823529\n",
              "8                Belluno           21.000000       11.000000\n",
              "9              Benevento           41.000000        0.538462"
            ]
          },
          "metadata": {
            "tags": []
          },
          "execution_count": 136
        }
      ]
    },
    {
      "cell_type": "code",
      "metadata": {
        "id": "5AqWVUruKiEi",
        "colab_type": "code",
        "outputId": "31f7fd34-90e7-4ead-9960-9275840433ff",
        "colab": {
          "base_uri": "https://localhost:8080/",
          "height": 34
        }
      },
      "source": [
        "pollution_infections.shape"
      ],
      "execution_count": 137,
      "outputs": [
        {
          "output_type": "execute_result",
          "data": {
            "text/plain": [
              "(96, 3)"
            ]
          },
          "metadata": {
            "tags": []
          },
          "execution_count": 137
        }
      ]
    },
    {
      "cell_type": "markdown",
      "metadata": {
        "id": "9xDO8qbpGZS2",
        "colab_type": "text"
      },
      "source": [
        "# Spearman correlation coefficient "
      ]
    },
    {
      "cell_type": "code",
      "metadata": {
        "id": "xy1mxzX-GVqH",
        "colab_type": "code",
        "outputId": "9321a9ab-c3cb-4e5a-beb5-432c1a62a964",
        "colab": {
          "base_uri": "https://localhost:8080/",
          "height": 34
        }
      },
      "source": [
        "x = pollution_infections.iloc[:,1]\n",
        "y = pollution_infections.iloc[:,2]\n",
        "\n",
        "print(spearmanr(x,y))"
      ],
      "execution_count": 138,
      "outputs": [
        {
          "output_type": "stream",
          "text": [
            "SpearmanrResult(correlation=0.41584996654143863, pvalue=2.5134133987041934e-05)\n"
          ],
          "name": "stdout"
        }
      ]
    },
    {
      "cell_type": "markdown",
      "metadata": {
        "id": "dV_4qAHvGd-1",
        "colab_type": "text"
      },
      "source": [
        "# Correlation plot"
      ]
    },
    {
      "cell_type": "code",
      "metadata": {
        "id": "sR5-YLeQFr7E",
        "colab_type": "code",
        "outputId": "d8b49393-b5cc-4a47-e052-78f615dafea0",
        "colab": {
          "base_uri": "https://localhost:8080/",
          "height": 450
        }
      },
      "source": [
        "plt.rcParams['figure.figsize'] = [7, 7]\n",
        "\n",
        "plt.rc('font', size=14) \n",
        "\n",
        "plt.scatter(x,y)\n",
        "plt.xlabel(\"Annual average PM10 concentration (micrograms/cubic meter)\")\n",
        "plt.ylabel(\"Daily infection rate (people/day)\")\n",
        "plt.show()"
      ],
      "execution_count": 139,
      "outputs": [
        {
          "output_type": "display_data",
          "data": {
            "image/png": "[encoded data removed]",
            "text/plain": [
              "<Figure size 504x504 with 1 Axes>"
            ]
          },
          "metadata": {
            "tags": []
          }
        }
      ]
    },
    {
      "cell_type": "markdown",
      "metadata": {
        "id": "M8ekoG-4UO1G",
        "colab_type": "text"
      },
      "source": [
        "# Average national infection rate"
      ]
    },
    {
      "cell_type": "code",
      "metadata": {
        "id": "f4LcH-NERXp6",
        "colab_type": "code",
        "colab": {}
      },
      "source": [
        "avg_national_infection_rate = np.mean(pollution_infections['infection_rate'])"
      ],
      "execution_count": 0,
      "outputs": []
    },
    {
      "cell_type": "code",
      "metadata": {
        "id": "w1Y0IRZdTyWa",
        "colab_type": "code",
        "outputId": "672a9473-f660-4371-f83e-83011c011a0a",
        "colab": {
          "base_uri": "https://localhost:8080/",
          "height": 34
        }
      },
      "source": [
        "avg_national_infection_rate"
      ],
      "execution_count": 141,
      "outputs": [
        {
          "output_type": "execute_result",
          "data": {
            "text/plain": [
              "23.108873068129906"
            ]
          },
          "metadata": {
            "tags": []
          },
          "execution_count": 141
        }
      ]
    },
    {
      "cell_type": "markdown",
      "metadata": {
        "id": "AtUBjX-UURJQ",
        "colab_type": "text"
      },
      "source": [
        "# Average national pollution index"
      ]
    },
    {
      "cell_type": "code",
      "metadata": {
        "id": "VcJiTxpFPTSI",
        "colab_type": "code",
        "colab": {}
      },
      "source": [
        "avg_national_pollution = np.mean(pollution_infections['Annual mean, ug/m3'])"
      ],
      "execution_count": 0,
      "outputs": []
    },
    {
      "cell_type": "code",
      "metadata": {
        "id": "-pytO2p5TziV",
        "colab_type": "code",
        "outputId": "0a4e41d4-2620-4b7b-da76-e426c628e325",
        "colab": {
          "base_uri": "https://localhost:8080/",
          "height": 34
        }
      },
      "source": [
        "avg_national_pollution"
      ],
      "execution_count": 143,
      "outputs": [
        {
          "output_type": "execute_result",
          "data": {
            "text/plain": [
              "24.159093915343913"
            ]
          },
          "metadata": {
            "tags": []
          },
          "execution_count": 143
        }
      ]
    },
    {
      "cell_type": "code",
      "metadata": {
        "id": "C4e0jd_RzxBO",
        "colab_type": "code",
        "colab": {}
      },
      "source": [
        "pollution_infections['flag_high_infection_rate'] = [int(x) for x in pollution_infections['infection_rate'] > avg_national_infection_rate]\n",
        "pollution_infections['flag_high_pollution'] = [int(x) for x in pollution_infections['Annual mean, ug/m3'] > avg_national_pollution]\n"
      ],
      "execution_count": 0,
      "outputs": []
    },
    {
      "cell_type": "code",
      "metadata": {
        "id": "nsUJ9rJJQUI9",
        "colab_type": "code",
        "colab": {
          "base_uri": "https://localhost:8080/",
          "height": 359
        },
        "outputId": "213c963a-81f6-4462-911e-54f2e9db763f"
      },
      "source": [
        "pollution_infections.head(10)"
      ],
      "execution_count": 150,
      "outputs": [
        {
          "output_type": "execute_result",
          "data": {
            "text/html": [
              "<div>\n",
              "<style scoped>\n",
              "    .dataframe tbody tr th:only-of-type {\n",
              "        vertical-align: middle;\n",
              "    }\n",
              "\n",
              "    .dataframe tbody tr th {\n",
              "        vertical-align: top;\n",
              "    }\n",
              "\n",
              "    .dataframe thead th {\n",
              "        text-align: right;\n",
              "    }\n",
              "</style>\n",
              "<table border=\"1\" class=\"dataframe\">\n",
              "  <thead>\n",
              "    <tr style=\"text-align: right;\">\n",
              "      <th></th>\n",
              "      <th>province</th>\n",
              "      <th>Annual mean, ug/m3</th>\n",
              "      <th>infection_rate</th>\n",
              "      <th>flag_high_infection_rate</th>\n",
              "      <th>flag_high_pollution</th>\n",
              "    </tr>\n",
              "  </thead>\n",
              "  <tbody>\n",
              "    <tr>\n",
              "      <th>0</th>\n",
              "      <td>Alessandria</td>\n",
              "      <td>21.750000</td>\n",
              "      <td>36.277778</td>\n",
              "      <td>1</td>\n",
              "      <td>0</td>\n",
              "    </tr>\n",
              "    <tr>\n",
              "      <th>1</th>\n",
              "      <td>Ancona</td>\n",
              "      <td>27.000000</td>\n",
              "      <td>28.150000</td>\n",
              "      <td>1</td>\n",
              "      <td>1</td>\n",
              "    </tr>\n",
              "    <tr>\n",
              "      <th>2</th>\n",
              "      <td>Arezzo</td>\n",
              "      <td>15.500000</td>\n",
              "      <td>7.105263</td>\n",
              "      <td>0</td>\n",
              "      <td>0</td>\n",
              "    </tr>\n",
              "    <tr>\n",
              "      <th>3</th>\n",
              "      <td>Ascoli Piceno</td>\n",
              "      <td>13.666667</td>\n",
              "      <td>4.900000</td>\n",
              "      <td>0</td>\n",
              "      <td>0</td>\n",
              "    </tr>\n",
              "    <tr>\n",
              "      <th>4</th>\n",
              "      <td>Asti</td>\n",
              "      <td>27.000000</td>\n",
              "      <td>6.789474</td>\n",
              "      <td>0</td>\n",
              "      <td>1</td>\n",
              "    </tr>\n",
              "    <tr>\n",
              "      <th>5</th>\n",
              "      <td>Avellino</td>\n",
              "      <td>35.000000</td>\n",
              "      <td>9.307692</td>\n",
              "      <td>0</td>\n",
              "      <td>1</td>\n",
              "    </tr>\n",
              "    <tr>\n",
              "      <th>6</th>\n",
              "      <td>Bari</td>\n",
              "      <td>24.000000</td>\n",
              "      <td>9.650000</td>\n",
              "      <td>0</td>\n",
              "      <td>0</td>\n",
              "    </tr>\n",
              "    <tr>\n",
              "      <th>7</th>\n",
              "      <td>Barletta-Andria-Trani</td>\n",
              "      <td>23.000000</td>\n",
              "      <td>1.823529</td>\n",
              "      <td>0</td>\n",
              "      <td>0</td>\n",
              "    </tr>\n",
              "    <tr>\n",
              "      <th>8</th>\n",
              "      <td>Belluno</td>\n",
              "      <td>21.000000</td>\n",
              "      <td>11.000000</td>\n",
              "      <td>0</td>\n",
              "      <td>0</td>\n",
              "    </tr>\n",
              "    <tr>\n",
              "      <th>9</th>\n",
              "      <td>Benevento</td>\n",
              "      <td>41.000000</td>\n",
              "      <td>0.538462</td>\n",
              "      <td>0</td>\n",
              "      <td>1</td>\n",
              "    </tr>\n",
              "  </tbody>\n",
              "</table>\n",
              "</div>"
            ],
            "text/plain": [
              "                province  ...  flag_high_pollution\n",
              "0            Alessandria  ...                    0\n",
              "1                 Ancona  ...                    1\n",
              "2                 Arezzo  ...                    0\n",
              "3          Ascoli Piceno  ...                    0\n",
              "4                   Asti  ...                    1\n",
              "5               Avellino  ...                    1\n",
              "6                   Bari  ...                    0\n",
              "7  Barletta-Andria-Trani  ...                    0\n",
              "8                Belluno  ...                    0\n",
              "9              Benevento  ...                    1\n",
              "\n",
              "[10 rows x 5 columns]"
            ]
          },
          "metadata": {
            "tags": []
          },
          "execution_count": 150
        }
      ]
    },
    {
      "cell_type": "markdown",
      "metadata": {
        "id": "e3L5dnLl3Rbp",
        "colab_type": "text"
      },
      "source": [
        "# Correlation between pollution and infection"
      ]
    },
    {
      "cell_type": "markdown",
      "metadata": {
        "id": "ANWVjTlr3ai4",
        "colab_type": "text"
      },
      "source": [
        "## Crosstab"
      ]
    },
    {
      "cell_type": "code",
      "metadata": {
        "id": "mc3dOept0T1x",
        "colab_type": "code",
        "colab": {}
      },
      "source": [
        "ctab_poll_inf = pd.crosstab(pollution_infections.flag_high_pollution,pollution_infections.flag_high_infection_rate)"
      ],
      "execution_count": 0,
      "outputs": []
    },
    {
      "cell_type": "code",
      "metadata": {
        "id": "St9YZeTe6vEz",
        "colab_type": "code",
        "outputId": "ecce6038-329d-45a2-9710-394744f1b751",
        "colab": {
          "base_uri": "https://localhost:8080/",
          "height": 142
        }
      },
      "source": [
        "ctab_poll_inf"
      ],
      "execution_count": 146,
      "outputs": [
        {
          "output_type": "execute_result",
          "data": {
            "text/html": [
              "<div>\n",
              "<style scoped>\n",
              "    .dataframe tbody tr th:only-of-type {\n",
              "        vertical-align: middle;\n",
              "    }\n",
              "\n",
              "    .dataframe tbody tr th {\n",
              "        vertical-align: top;\n",
              "    }\n",
              "\n",
              "    .dataframe thead th {\n",
              "        text-align: right;\n",
              "    }\n",
              "</style>\n",
              "<table border=\"1\" class=\"dataframe\">\n",
              "  <thead>\n",
              "    <tr style=\"text-align: right;\">\n",
              "      <th>flag_high_infection_rate</th>\n",
              "      <th>0</th>\n",
              "      <th>1</th>\n",
              "    </tr>\n",
              "    <tr>\n",
              "      <th>flag_high_pollution</th>\n",
              "      <th></th>\n",
              "      <th></th>\n",
              "    </tr>\n",
              "  </thead>\n",
              "  <tbody>\n",
              "    <tr>\n",
              "      <th>0</th>\n",
              "      <td>45</td>\n",
              "      <td>9</td>\n",
              "    </tr>\n",
              "    <tr>\n",
              "      <th>1</th>\n",
              "      <td>24</td>\n",
              "      <td>18</td>\n",
              "    </tr>\n",
              "  </tbody>\n",
              "</table>\n",
              "</div>"
            ],
            "text/plain": [
              "flag_high_infection_rate   0   1\n",
              "flag_high_pollution             \n",
              "0                         45   9\n",
              "1                         24  18"
            ]
          },
          "metadata": {
            "tags": []
          },
          "execution_count": 146
        }
      ]
    },
    {
      "cell_type": "markdown",
      "metadata": {
        "id": "1i0B6F_t3dVi",
        "colab_type": "text"
      },
      "source": [
        "## Fisher's test p-value"
      ]
    },
    {
      "cell_type": "code",
      "metadata": {
        "id": "pC4b_Gbn14ds",
        "colab_type": "code",
        "outputId": "884f8845-4644-412d-8f2a-eeb46bd115ce",
        "colab": {
          "base_uri": "https://localhost:8080/",
          "height": 34
        }
      },
      "source": [
        "fisher_exact(ctab_poll_inf)[1]"
      ],
      "execution_count": 147,
      "outputs": [
        {
          "output_type": "execute_result",
          "data": {
            "text/plain": [
              "0.006117165433063012"
            ]
          },
          "metadata": {
            "tags": []
          },
          "execution_count": 147
        }
      ]
    },
    {
      "cell_type": "code",
      "metadata": {
        "id": "R0aIQoR31L3z",
        "colab_type": "code",
        "colab": {}
      },
      "source": [
        ""
      ],
      "execution_count": 0,
      "outputs": []
    }
  ]
}