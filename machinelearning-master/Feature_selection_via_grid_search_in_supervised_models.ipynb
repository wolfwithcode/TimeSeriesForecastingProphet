{
  "nbformat": 4,
  "nbformat_minor": 0,
  "metadata": {
    "colab": {
      "name": "Feature selection via grid search in supervised models",
      "provenance": [],
      "authorship_tag": "ABX9TyOTWlfg2XQqvTfhXoKmUvmU"
    },
    "kernelspec": {
      "name": "python3",
      "display_name": "Python 3"
    }
  },
  "cells": [
    {
      "cell_type": "code",
      "metadata": {
        "id": "fpMJg9DIqyOX",
        "colab_type": "code",
        "colab": {}
      },
      "source": [
        "import numpy as np\n",
        "from sklearn.datasets import load_boston\n",
        "from sklearn.feature_selection import SelectKBest,f_regression\n",
        "from sklearn.pipeline import Pipeline\n",
        "from sklearn.linear_model import LinearRegression\n",
        "from sklearn.neighbors import KNeighborsRegressor\n",
        "from sklearn.preprocessing import StandardScaler\n",
        "from sklearn.ensemble import RandomForestRegressor\n",
        "from sklearn.model_selection import GridSearchCV\n",
        "from sklearn.metrics import mean_squared_error"
      ],
      "execution_count": 0,
      "outputs": []
    },
    {
      "cell_type": "markdown",
      "metadata": {
        "id": "LGkBrLPGsbUX",
        "colab_type": "text"
      },
      "source": [
        "# Data loading"
      ]
    },
    {
      "cell_type": "code",
      "metadata": {
        "id": "LP6xdkXWsGw6",
        "colab_type": "code",
        "colab": {}
      },
      "source": [
        "data,target = load_boston(return_X_y=True)"
      ],
      "execution_count": 0,
      "outputs": []
    },
    {
      "cell_type": "markdown",
      "metadata": {
        "id": "bvYfKpbduElz",
        "colab_type": "text"
      },
      "source": [
        "# Pipeline definition"
      ]
    },
    {
      "cell_type": "code",
      "metadata": {
        "id": "WuLRz6g6sfCa",
        "colab_type": "code",
        "colab": {}
      },
      "source": [
        "pipeline = Pipeline(\n",
        "    [\n",
        "     ('selector',SelectKBest(f_regression)),\n",
        "     ('model',LinearRegression())\n",
        "    ]\n",
        ")"
      ],
      "execution_count": 0,
      "outputs": []
    },
    {
      "cell_type": "markdown",
      "metadata": {
        "id": "aPxDM9Rcub7W",
        "colab_type": "text"
      },
      "source": [
        "# Grid Search with cross-validation for linear regression"
      ]
    },
    {
      "cell_type": "markdown",
      "metadata": {
        "id": "QRnjUdsWwgYJ",
        "colab_type": "text"
      },
      "source": [
        "Defining grid search parameters."
      ]
    },
    {
      "cell_type": "code",
      "metadata": {
        "id": "h7nyD1Biua-8",
        "colab_type": "code",
        "colab": {}
      },
      "source": [
        "search = GridSearchCV(\n",
        "    estimator = pipeline,\n",
        "    param_grid = {'selector__k':[3,4,5,6,7,8,9,10]},\n",
        "    n_jobs=-1,\n",
        "    scoring=\"neg_mean_squared_error\",\n",
        "    cv=5,\n",
        "    verbose=3\n",
        "\n",
        "    )"
      ],
      "execution_count": 0,
      "outputs": []
    },
    {
      "cell_type": "markdown",
      "metadata": {
        "id": "ZcOxTYwfwk6W",
        "colab_type": "text"
      },
      "source": [
        "Performing grid search over the specified parameters."
      ]
    },
    {
      "cell_type": "code",
      "metadata": {
        "id": "NTGJf0suv6Km",
        "colab_type": "code",
        "outputId": "48bdc9a2-a2f5-498a-8fd1-090319bc83c8",
        "colab": {
          "base_uri": "https://localhost:8080/",
          "height": 323
        }
      },
      "source": [
        "search.fit(data,target)"
      ],
      "execution_count": 0,
      "outputs": [
        {
          "output_type": "stream",
          "text": [
            "Fitting 5 folds for each of 8 candidates, totalling 40 fits\n"
          ],
          "name": "stdout"
        },
        {
          "output_type": "stream",
          "text": [
            "[Parallel(n_jobs=-1)]: Using backend LokyBackend with 2 concurrent workers.\n",
            "[Parallel(n_jobs=-1)]: Done  40 out of  40 | elapsed:    1.2s finished\n"
          ],
          "name": "stderr"
        },
        {
          "output_type": "execute_result",
          "data": {
            "text/plain": [
              "GridSearchCV(cv=5, error_score=nan,\n",
              "             estimator=Pipeline(memory=None,\n",
              "                                steps=[('selector',\n",
              "                                        SelectKBest(k=10,\n",
              "                                                    score_func=<function f_regression at 0x7f34c366c1e0>)),\n",
              "                                       ('model',\n",
              "                                        LinearRegression(copy_X=True,\n",
              "                                                         fit_intercept=True,\n",
              "                                                         n_jobs=None,\n",
              "                                                         normalize=False))],\n",
              "                                verbose=False),\n",
              "             iid='deprecated', n_jobs=-1,\n",
              "             param_grid={'selector__k': [3, 4, 5, 6, 7, 8, 9, 10]},\n",
              "             pre_dispatch='2*n_jobs', refit=True, return_train_score=False,\n",
              "             scoring='neg_mean_squared_error', verbose=3)"
            ]
          },
          "metadata": {
            "tags": []
          },
          "execution_count": 5
        }
      ]
    },
    {
      "cell_type": "markdown",
      "metadata": {
        "id": "0iZWFL7SxCzm",
        "colab_type": "text"
      },
      "source": [
        "The best value for *k* is:"
      ]
    },
    {
      "cell_type": "code",
      "metadata": {
        "id": "MGRB8u85wDXK",
        "colab_type": "code",
        "outputId": "41811e04-026d-4229-bed6-85c523d29b72",
        "colab": {
          "base_uri": "https://localhost:8080/",
          "height": 34
        }
      },
      "source": [
        "search.best_params_"
      ],
      "execution_count": 0,
      "outputs": [
        {
          "output_type": "execute_result",
          "data": {
            "text/plain": [
              "{'selector__k': 3}"
            ]
          },
          "metadata": {
            "tags": []
          },
          "execution_count": 6
        }
      ]
    },
    {
      "cell_type": "markdown",
      "metadata": {
        "id": "S8NxRkDnxGHv",
        "colab_type": "text"
      },
      "source": [
        "The best score achieved is:"
      ]
    },
    {
      "cell_type": "code",
      "metadata": {
        "id": "_EtvKFTQwHf_",
        "colab_type": "code",
        "outputId": "01fd177c-e115-4306-9c63-07c90641737d",
        "colab": {
          "base_uri": "https://localhost:8080/",
          "height": 34
        }
      },
      "source": [
        "search.best_score_"
      ],
      "execution_count": 0,
      "outputs": [
        {
          "output_type": "execute_result",
          "data": {
            "text/plain": [
              "-36.4236890153343"
            ]
          },
          "metadata": {
            "tags": []
          },
          "execution_count": 7
        }
      ]
    },
    {
      "cell_type": "markdown",
      "metadata": {
        "id": "vvQlLGXV0i8F",
        "colab_type": "text"
      },
      "source": [
        "# Grid search with cross-validation for Random Forest Regressor"
      ]
    },
    {
      "cell_type": "code",
      "metadata": {
        "id": "q_okg7w_0xdv",
        "colab_type": "code",
        "colab": {}
      },
      "source": [
        "pipeline = Pipeline(\n",
        "    [\n",
        "     ('selector',SelectKBest(f_regression)),\n",
        "     ('model',RandomForestRegressor(random_state = 0))\n",
        "    ]\n",
        ")"
      ],
      "execution_count": 0,
      "outputs": []
    },
    {
      "cell_type": "code",
      "metadata": {
        "id": "jXxlQDwUweD0",
        "colab_type": "code",
        "colab": {}
      },
      "source": [
        "search = GridSearchCV(\n",
        "    estimator = pipeline,\n",
        "    param_grid = {'selector__k':[3,4,5,6,7,8,9,10] , 'model__n_estimators':np.arange(10,200,10)   },\n",
        "    n_jobs=-1,\n",
        "    scoring=\"neg_mean_squared_error\",\n",
        "    cv=5,\n",
        "    verbose=3\n",
        "\n",
        "    )"
      ],
      "execution_count": 0,
      "outputs": []
    },
    {
      "cell_type": "code",
      "metadata": {
        "id": "XSD6zprr0vFu",
        "colab_type": "code",
        "outputId": "9bc8c84a-72cb-41c2-82d1-75257f8ecc75",
        "colab": {
          "base_uri": "https://localhost:8080/",
          "height": 578
        }
      },
      "source": [
        "search.fit(data,target)"
      ],
      "execution_count": 0,
      "outputs": [
        {
          "output_type": "stream",
          "text": [
            "[Parallel(n_jobs=-1)]: Using backend LokyBackend with 2 concurrent workers.\n"
          ],
          "name": "stderr"
        },
        {
          "output_type": "stream",
          "text": [
            "Fitting 5 folds for each of 152 candidates, totalling 760 fits\n"
          ],
          "name": "stdout"
        },
        {
          "output_type": "stream",
          "text": [
            "[Parallel(n_jobs=-1)]: Done  92 tasks      | elapsed:    3.2s\n",
            "[Parallel(n_jobs=-1)]: Done 338 tasks      | elapsed:   30.2s\n",
            "[Parallel(n_jobs=-1)]: Done 498 tasks      | elapsed:  1.0min\n",
            "[Parallel(n_jobs=-1)]: Done 722 tasks      | elapsed:  2.1min\n",
            "[Parallel(n_jobs=-1)]: Done 760 out of 760 | elapsed:  2.4min finished\n"
          ],
          "name": "stderr"
        },
        {
          "output_type": "execute_result",
          "data": {
            "text/plain": [
              "GridSearchCV(cv=5, error_score=nan,\n",
              "             estimator=Pipeline(memory=None,\n",
              "                                steps=[('selector',\n",
              "                                        SelectKBest(k=10,\n",
              "                                                    score_func=<function f_regression at 0x7f34c366c1e0>)),\n",
              "                                       ('model',\n",
              "                                        RandomForestRegressor(bootstrap=True,\n",
              "                                                              ccp_alpha=0.0,\n",
              "                                                              criterion='mse',\n",
              "                                                              max_depth=None,\n",
              "                                                              max_features='auto',\n",
              "                                                              max_leaf_nodes=None,\n",
              "                                                              max_samples=None,\n",
              "                                                              min_impurity_decrease=0.0,\n",
              "                                                              min_impurity_split=None...\n",
              "                                                              oob_score=False,\n",
              "                                                              random_state=0,\n",
              "                                                              verbose=0,\n",
              "                                                              warm_start=False))],\n",
              "                                verbose=False),\n",
              "             iid='deprecated', n_jobs=-1,\n",
              "             param_grid={'model__n_estimators': array([ 10,  20,  30,  40,  50,  60,  70,  80,  90, 100, 110, 120, 130,\n",
              "       140, 150, 160, 170, 180, 190]),\n",
              "                         'selector__k': [3, 4, 5, 6, 7, 8, 9, 10]},\n",
              "             pre_dispatch='2*n_jobs', refit=True, return_train_score=False,\n",
              "             scoring='neg_mean_squared_error', verbose=3)"
            ]
          },
          "metadata": {
            "tags": []
          },
          "execution_count": 10
        }
      ]
    },
    {
      "cell_type": "code",
      "metadata": {
        "id": "jMZCRTjR0-fi",
        "colab_type": "code",
        "outputId": "b319785d-77cd-425e-9d57-086f2bc10cd9",
        "colab": {
          "base_uri": "https://localhost:8080/",
          "height": 34
        }
      },
      "source": [
        "search.best_params_"
      ],
      "execution_count": 0,
      "outputs": [
        {
          "output_type": "execute_result",
          "data": {
            "text/plain": [
              "{'model__n_estimators': 110, 'selector__k': 6}"
            ]
          },
          "metadata": {
            "tags": []
          },
          "execution_count": 11
        }
      ]
    },
    {
      "cell_type": "code",
      "metadata": {
        "id": "LsGilVty1EuG",
        "colab_type": "code",
        "outputId": "f1158541-c3c6-4bef-9be0-4410357cbf72",
        "colab": {
          "base_uri": "https://localhost:8080/",
          "height": 34
        }
      },
      "source": [
        "search.best_score_"
      ],
      "execution_count": 0,
      "outputs": [
        {
          "output_type": "execute_result",
          "data": {
            "text/plain": [
              "-22.170138432624004"
            ]
          },
          "metadata": {
            "tags": []
          },
          "execution_count": 12
        }
      ]
    }
  ]
}