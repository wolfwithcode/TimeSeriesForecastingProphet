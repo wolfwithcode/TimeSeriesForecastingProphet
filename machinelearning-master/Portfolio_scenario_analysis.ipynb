{
  "nbformat": 4,
  "nbformat_minor": 0,
  "metadata": {
    "colab": {
      "name": "Portfolio scenario analysis.ipynb",
      "provenance": [],
      "authorship_tag": "ABX9TyM7P7Y7oyQdNIC6mo3yrz7o"
    },
    "kernelspec": {
      "name": "python3",
      "display_name": "Python 3"
    }
  },
  "cells": [
    {
      "cell_type": "code",
      "metadata": {
        "id": "UkuxJ43zh4nN",
        "colab_type": "code",
        "outputId": "9d216ff3-b2aa-4792-9380-2e6b85405afe",
        "colab": {
          "base_uri": "https://localhost:8080/",
          "height": 357
        }
      },
      "source": [
        "!pip install yfinance"
      ],
      "execution_count": 0,
      "outputs": [
        {
          "output_type": "stream",
          "text": [
            "Collecting yfinance\n",
            "  Downloading https://files.pythonhosted.org/packages/c2/31/8b374a12b90def92a4e27d0fc595fc43635f395984e36a075244d98bd265/yfinance-0.1.54.tar.gz\n",
            "Requirement already satisfied: pandas>=0.24 in /usr/local/lib/python3.6/dist-packages (from yfinance) (1.0.3)\n",
            "Requirement already satisfied: numpy>=1.15 in /usr/local/lib/python3.6/dist-packages (from yfinance) (1.18.2)\n",
            "Requirement already satisfied: requests>=2.20 in /usr/local/lib/python3.6/dist-packages (from yfinance) (2.21.0)\n",
            "Requirement already satisfied: multitasking>=0.0.7 in /usr/local/lib/python3.6/dist-packages (from yfinance) (0.0.9)\n",
            "Requirement already satisfied: python-dateutil>=2.6.1 in /usr/local/lib/python3.6/dist-packages (from pandas>=0.24->yfinance) (2.8.1)\n",
            "Requirement already satisfied: pytz>=2017.2 in /usr/local/lib/python3.6/dist-packages (from pandas>=0.24->yfinance) (2018.9)\n",
            "Requirement already satisfied: urllib3<1.25,>=1.21.1 in /usr/local/lib/python3.6/dist-packages (from requests>=2.20->yfinance) (1.24.3)\n",
            "Requirement already satisfied: chardet<3.1.0,>=3.0.2 in /usr/local/lib/python3.6/dist-packages (from requests>=2.20->yfinance) (3.0.4)\n",
            "Requirement already satisfied: certifi>=2017.4.17 in /usr/local/lib/python3.6/dist-packages (from requests>=2.20->yfinance) (2020.4.5.1)\n",
            "Requirement already satisfied: idna<2.9,>=2.5 in /usr/local/lib/python3.6/dist-packages (from requests>=2.20->yfinance) (2.8)\n",
            "Requirement already satisfied: six>=1.5 in /usr/local/lib/python3.6/dist-packages (from python-dateutil>=2.6.1->pandas>=0.24->yfinance) (1.12.0)\n",
            "Building wheels for collected packages: yfinance\n",
            "  Building wheel for yfinance (setup.py) ... \u001b[?25l\u001b[?25hdone\n",
            "  Created wheel for yfinance: filename=yfinance-0.1.54-py2.py3-none-any.whl size=22409 sha256=d100200bedb8f8f6e8c2035a8c17268e3dcbdf199b93710558b90f2f241ee609\n",
            "  Stored in directory: /root/.cache/pip/wheels/f9/e3/5b/ec24dd2984b12d61e0abf26289746c2436a0e7844f26f2515c\n",
            "Successfully built yfinance\n",
            "Installing collected packages: yfinance\n",
            "Successfully installed yfinance-0.1.54\n"
          ],
          "name": "stdout"
        }
      ]
    },
    {
      "cell_type": "code",
      "metadata": {
        "id": "4NonbpzmiBd7",
        "colab_type": "code",
        "colab": {}
      },
      "source": [
        "import yfinance\n",
        "import pandas as pd\n",
        "import numpy as np\n",
        "\n",
        "import matplotlib.pyplot as plt\n"
      ],
      "execution_count": 0,
      "outputs": []
    },
    {
      "cell_type": "code",
      "metadata": {
        "id": "y2Co8eAZislU",
        "colab_type": "code",
        "colab": {}
      },
      "source": [
        "portfolio_composition = [('MSFT',0.5),('AAPL',0.2),('GOOG',0.3)]\n",
        "\n",
        "returns = pd.DataFrame({})\n"
      ],
      "execution_count": 0,
      "outputs": []
    },
    {
      "cell_type": "code",
      "metadata": {
        "id": "af3fbpfJi4Hd",
        "colab_type": "code",
        "colab": {}
      },
      "source": [
        "for t in portfolio_composition:\n",
        "  name = t[0]\n",
        "  ticker = yfinance.Ticker(name)\n",
        "  data = ticker.history(interval=\"1d\",start=\"2010-01-01\",end=\"2019-12-31\")\n",
        "  data['return_%s' % (name)] = data['Close'].pct_change(1)\n",
        "\n",
        "  returns = returns.join(data[['return_%s' % (name)]],how=\"outer\").dropna()"
      ],
      "execution_count": 0,
      "outputs": []
    },
    {
      "cell_type": "code",
      "metadata": {
        "id": "2BSmYVu_iDzO",
        "colab_type": "code",
        "outputId": "34032b4f-7818-41ab-9fda-e3e8264235e7",
        "colab": {
          "base_uri": "https://localhost:8080/",
          "height": 450
        }
      },
      "source": [
        "returns"
      ],
      "execution_count": 0,
      "outputs": [
        {
          "output_type": "execute_result",
          "data": {
            "text/html": [
              "<div>\n",
              "<style scoped>\n",
              "    .dataframe tbody tr th:only-of-type {\n",
              "        vertical-align: middle;\n",
              "    }\n",
              "\n",
              "    .dataframe tbody tr th {\n",
              "        vertical-align: top;\n",
              "    }\n",
              "\n",
              "    .dataframe thead th {\n",
              "        text-align: right;\n",
              "    }\n",
              "</style>\n",
              "<table border=\"1\" class=\"dataframe\">\n",
              "  <thead>\n",
              "    <tr style=\"text-align: right;\">\n",
              "      <th></th>\n",
              "      <th>return_MSFT</th>\n",
              "      <th>return_AAPL</th>\n",
              "      <th>return_GOOG</th>\n",
              "    </tr>\n",
              "    <tr>\n",
              "      <th>Date</th>\n",
              "      <th></th>\n",
              "      <th></th>\n",
              "      <th></th>\n",
              "    </tr>\n",
              "  </thead>\n",
              "  <tbody>\n",
              "    <tr>\n",
              "      <th>2010-01-05</th>\n",
              "      <td>0.000412</td>\n",
              "      <td>0.001507</td>\n",
              "      <td>-0.004388</td>\n",
              "    </tr>\n",
              "    <tr>\n",
              "      <th>2010-01-06</th>\n",
              "      <td>-0.006173</td>\n",
              "      <td>-0.015801</td>\n",
              "      <td>-0.025223</td>\n",
              "    </tr>\n",
              "    <tr>\n",
              "      <th>2010-01-07</th>\n",
              "      <td>-0.010352</td>\n",
              "      <td>-0.001911</td>\n",
              "      <td>-0.023268</td>\n",
              "    </tr>\n",
              "    <tr>\n",
              "      <th>2010-01-08</th>\n",
              "      <td>0.007113</td>\n",
              "      <td>0.006894</td>\n",
              "      <td>0.013347</td>\n",
              "    </tr>\n",
              "    <tr>\n",
              "      <th>2010-01-11</th>\n",
              "      <td>-0.012879</td>\n",
              "      <td>-0.009129</td>\n",
              "      <td>-0.001534</td>\n",
              "    </tr>\n",
              "    <tr>\n",
              "      <th>...</th>\n",
              "      <td>...</td>\n",
              "      <td>...</td>\n",
              "      <td>...</td>\n",
              "    </tr>\n",
              "    <tr>\n",
              "      <th>2019-12-23</th>\n",
              "      <td>0.000000</td>\n",
              "      <td>0.016321</td>\n",
              "      <td>-0.000556</td>\n",
              "    </tr>\n",
              "    <tr>\n",
              "      <th>2019-12-24</th>\n",
              "      <td>-0.000191</td>\n",
              "      <td>0.000953</td>\n",
              "      <td>-0.003914</td>\n",
              "    </tr>\n",
              "    <tr>\n",
              "      <th>2019-12-26</th>\n",
              "      <td>0.008219</td>\n",
              "      <td>0.019817</td>\n",
              "      <td>0.012534</td>\n",
              "    </tr>\n",
              "    <tr>\n",
              "      <th>2019-12-27</th>\n",
              "      <td>0.001833</td>\n",
              "      <td>-0.000380</td>\n",
              "      <td>-0.006256</td>\n",
              "    </tr>\n",
              "    <tr>\n",
              "      <th>2019-12-30</th>\n",
              "      <td>-0.008642</td>\n",
              "      <td>0.005949</td>\n",
              "      <td>-0.011650</td>\n",
              "    </tr>\n",
              "  </tbody>\n",
              "</table>\n",
              "<p>2514 rows × 3 columns</p>\n",
              "</div>"
            ],
            "text/plain": [
              "            return_MSFT  return_AAPL  return_GOOG\n",
              "Date                                             \n",
              "2010-01-05     0.000412     0.001507    -0.004388\n",
              "2010-01-06    -0.006173    -0.015801    -0.025223\n",
              "2010-01-07    -0.010352    -0.001911    -0.023268\n",
              "2010-01-08     0.007113     0.006894     0.013347\n",
              "2010-01-11    -0.012879    -0.009129    -0.001534\n",
              "...                 ...          ...          ...\n",
              "2019-12-23     0.000000     0.016321    -0.000556\n",
              "2019-12-24    -0.000191     0.000953    -0.003914\n",
              "2019-12-26     0.008219     0.019817     0.012534\n",
              "2019-12-27     0.001833    -0.000380    -0.006256\n",
              "2019-12-30    -0.008642     0.005949    -0.011650\n",
              "\n",
              "[2514 rows x 3 columns]"
            ]
          },
          "metadata": {
            "tags": []
          },
          "execution_count": 5
        }
      ]
    },
    {
      "cell_type": "code",
      "metadata": {
        "id": "iswakfl9mf09",
        "colab_type": "code",
        "colab": {}
      },
      "source": [
        "def simulate_returns(historical_returns,forecast_days):\n",
        "  return historical_returns.sample(n = forecast_days, \n",
        "                                   replace = True).reset_index(drop = True)"
      ],
      "execution_count": 0,
      "outputs": []
    },
    {
      "cell_type": "code",
      "metadata": {
        "id": "rU1yNsWknNR-",
        "colab_type": "code",
        "outputId": "18cf2635-8f32-4910-d5e0-f9fa6198bc51",
        "colab": {
          "base_uri": "https://localhost:8080/",
          "height": 221
        }
      },
      "source": [
        "simulate_returns(returns['return_AAPL'],1000)"
      ],
      "execution_count": 0,
      "outputs": [
        {
          "output_type": "execute_result",
          "data": {
            "text/plain": [
              "0     -0.003887\n",
              "1     -0.000676\n",
              "2     -0.005246\n",
              "3     -0.010805\n",
              "4      0.058233\n",
              "         ...   \n",
              "995   -0.004859\n",
              "996    0.010595\n",
              "997    0.005688\n",
              "998    0.019051\n",
              "999   -0.031290\n",
              "Name: return_AAPL, Length: 1000, dtype: float64"
            ]
          },
          "metadata": {
            "tags": []
          },
          "execution_count": 7
        }
      ]
    },
    {
      "cell_type": "code",
      "metadata": {
        "id": "HIYOe03rltdm",
        "colab_type": "code",
        "colab": {}
      },
      "source": [
        "def simulate_portfolio(historical_returns,composition,forecast_days):\n",
        "  result = 0\n",
        "  for t in composition:\n",
        "    name,weight = t[0],t[1]\n",
        "    s = simulate_returns(historical_returns['return_%s' % (name)], forecast_days)\n",
        "    result = result + s * weight\n",
        "  \n",
        "  return(result)\n"
      ],
      "execution_count": 0,
      "outputs": []
    },
    {
      "cell_type": "code",
      "metadata": {
        "id": "TJyZXF2DoPx-",
        "colab_type": "code",
        "outputId": "a4701a08-0bcc-48c3-aa57-9e663887de51",
        "colab": {
          "base_uri": "https://localhost:8080/",
          "height": 204
        }
      },
      "source": [
        "simulate_portfolio(returns,portfolio_composition,10)"
      ],
      "execution_count": 0,
      "outputs": [
        {
          "output_type": "execute_result",
          "data": {
            "text/plain": [
              "0    0.009355\n",
              "1    0.001613\n",
              "2    0.004744\n",
              "3    0.000073\n",
              "4   -0.003771\n",
              "5   -0.006820\n",
              "6    0.003886\n",
              "7    0.013020\n",
              "8    0.030238\n",
              "9    0.003929\n",
              "dtype: float64"
            ]
          },
          "metadata": {
            "tags": []
          },
          "execution_count": 9
        }
      ]
    },
    {
      "cell_type": "code",
      "metadata": {
        "id": "ySGpq2qnpazS",
        "colab_type": "code",
        "colab": {}
      },
      "source": [
        "def simulate_modified_returns(historical_returns,forecast_days,correct_mean_by):\n",
        "  h = historical_returns.copy()\n",
        "\n",
        "  new_series = h + correct_mean_by\n",
        "\n",
        "  return new_series.sample(n=forecast_days,replace=True).reset_index(drop=True)"
      ],
      "execution_count": 0,
      "outputs": []
    },
    {
      "cell_type": "code",
      "metadata": {
        "id": "j1mzZPrPrWI4",
        "colab_type": "code",
        "colab": {}
      },
      "source": [
        "def simulate_modified_portfolio(historical_returns,composition,forecast_days):\n",
        "  result = 0\n",
        "  for t in composition:\n",
        "    name,weight,correction = t[0],t[1],t[2]\n",
        "    s = simulate_modified_returns(historical_returns['return_%s' % (name)], forecast_days,correction)\n",
        "    result = result + s * weight\n",
        "  \n",
        "  return(result)\n"
      ],
      "execution_count": 0,
      "outputs": []
    },
    {
      "cell_type": "code",
      "metadata": {
        "id": "2p3trKAS7A97",
        "colab_type": "code",
        "colab": {}
      },
      "source": [
        "def simulation(historical_returns,composition,forecast_days,n_iterations):\n",
        "  simulated_portfolios = None\n",
        "\n",
        "  for i in range(n_iterations):\n",
        "    sim = simulate_modified_portfolio(historical_returns,composition,forecast_days)\n",
        "\n",
        "    sim_port = pd.DataFrame({'returns_%d' % (i) : sim})\n",
        "\n",
        "    if simulated_portfolios is None:\n",
        "      simulated_portfolios = sim_port\n",
        "    else:\n",
        "      simulated_portfolios = simulated_portfolios.join(sim_port)\n",
        "    \n",
        "  return simulated_portfolios"
      ],
      "execution_count": 0,
      "outputs": []
    },
    {
      "cell_type": "markdown",
      "metadata": {
        "id": "ezxUrMuh652D",
        "colab_type": "text"
      },
      "source": [
        "# Simulation with corrections"
      ]
    },
    {
      "cell_type": "code",
      "metadata": {
        "id": "uXtmvUUB8_0m",
        "colab_type": "code",
        "outputId": "aaf4135f-8455-464f-de1d-a5bcb9e8158a",
        "colab": {
          "base_uri": "https://localhost:8080/",
          "height": 85
        }
      },
      "source": [
        "returns.mean(axis=0)"
      ],
      "execution_count": 0,
      "outputs": [
        {
          "output_type": "execute_result",
          "data": {
            "text/plain": [
              "return_MSFT    0.000845\n",
              "return_AAPL    0.001085\n",
              "return_GOOG    0.000696\n",
              "dtype: float64"
            ]
          },
          "metadata": {
            "tags": []
          },
          "execution_count": 13
        }
      ]
    },
    {
      "cell_type": "code",
      "metadata": {
        "id": "1_-qOvItuIc1",
        "colab_type": "code",
        "colab": {}
      },
      "source": [
        "portfolio_composition = [('MSFT', 0.5,-0.0001), ('AAPL', 0.2,-0.001), ('GOOG', 0.3,-0.0005)]"
      ],
      "execution_count": 0,
      "outputs": []
    },
    {
      "cell_type": "code",
      "metadata": {
        "id": "PIi1D7tP_HxS",
        "colab_type": "code",
        "colab": {}
      },
      "source": [
        "forecast_days = 20\n",
        "n_iterations = 200"
      ],
      "execution_count": 0,
      "outputs": []
    },
    {
      "cell_type": "code",
      "metadata": {
        "id": "JWJn230VvY0_",
        "colab_type": "code",
        "colab": {}
      },
      "source": [
        "simulated_portfolios = simulation(returns,portfolio_composition,forecast_days,n_iterations)"
      ],
      "execution_count": 0,
      "outputs": []
    },
    {
      "cell_type": "code",
      "metadata": {
        "id": "6Eja-CsE7dSa",
        "colab_type": "code",
        "outputId": "8de2c741-4d9b-445f-f631-fcd11045c838",
        "colab": {
          "base_uri": "https://localhost:8080/",
          "height": 338
        }
      },
      "source": [
        "simulated_portfolios.head()"
      ],
      "execution_count": 0,
      "outputs": [
        {
          "output_type": "execute_result",
          "data": {
            "text/html": [
              "<div>\n",
              "<style scoped>\n",
              "    .dataframe tbody tr th:only-of-type {\n",
              "        vertical-align: middle;\n",
              "    }\n",
              "\n",
              "    .dataframe tbody tr th {\n",
              "        vertical-align: top;\n",
              "    }\n",
              "\n",
              "    .dataframe thead th {\n",
              "        text-align: right;\n",
              "    }\n",
              "</style>\n",
              "<table border=\"1\" class=\"dataframe\">\n",
              "  <thead>\n",
              "    <tr style=\"text-align: right;\">\n",
              "      <th></th>\n",
              "      <th>returns_0</th>\n",
              "      <th>returns_1</th>\n",
              "      <th>returns_2</th>\n",
              "      <th>returns_3</th>\n",
              "      <th>returns_4</th>\n",
              "      <th>returns_5</th>\n",
              "      <th>returns_6</th>\n",
              "      <th>returns_7</th>\n",
              "      <th>returns_8</th>\n",
              "      <th>returns_9</th>\n",
              "      <th>returns_10</th>\n",
              "      <th>returns_11</th>\n",
              "      <th>returns_12</th>\n",
              "      <th>returns_13</th>\n",
              "      <th>returns_14</th>\n",
              "      <th>returns_15</th>\n",
              "      <th>returns_16</th>\n",
              "      <th>returns_17</th>\n",
              "      <th>returns_18</th>\n",
              "      <th>returns_19</th>\n",
              "      <th>returns_20</th>\n",
              "      <th>returns_21</th>\n",
              "      <th>returns_22</th>\n",
              "      <th>returns_23</th>\n",
              "      <th>returns_24</th>\n",
              "      <th>returns_25</th>\n",
              "      <th>returns_26</th>\n",
              "      <th>returns_27</th>\n",
              "      <th>returns_28</th>\n",
              "      <th>returns_29</th>\n",
              "      <th>returns_30</th>\n",
              "      <th>returns_31</th>\n",
              "      <th>returns_32</th>\n",
              "      <th>returns_33</th>\n",
              "      <th>returns_34</th>\n",
              "      <th>returns_35</th>\n",
              "      <th>returns_36</th>\n",
              "      <th>returns_37</th>\n",
              "      <th>returns_38</th>\n",
              "      <th>returns_39</th>\n",
              "      <th>...</th>\n",
              "      <th>returns_160</th>\n",
              "      <th>returns_161</th>\n",
              "      <th>returns_162</th>\n",
              "      <th>returns_163</th>\n",
              "      <th>returns_164</th>\n",
              "      <th>returns_165</th>\n",
              "      <th>returns_166</th>\n",
              "      <th>returns_167</th>\n",
              "      <th>returns_168</th>\n",
              "      <th>returns_169</th>\n",
              "      <th>returns_170</th>\n",
              "      <th>returns_171</th>\n",
              "      <th>returns_172</th>\n",
              "      <th>returns_173</th>\n",
              "      <th>returns_174</th>\n",
              "      <th>returns_175</th>\n",
              "      <th>returns_176</th>\n",
              "      <th>returns_177</th>\n",
              "      <th>returns_178</th>\n",
              "      <th>returns_179</th>\n",
              "      <th>returns_180</th>\n",
              "      <th>returns_181</th>\n",
              "      <th>returns_182</th>\n",
              "      <th>returns_183</th>\n",
              "      <th>returns_184</th>\n",
              "      <th>returns_185</th>\n",
              "      <th>returns_186</th>\n",
              "      <th>returns_187</th>\n",
              "      <th>returns_188</th>\n",
              "      <th>returns_189</th>\n",
              "      <th>returns_190</th>\n",
              "      <th>returns_191</th>\n",
              "      <th>returns_192</th>\n",
              "      <th>returns_193</th>\n",
              "      <th>returns_194</th>\n",
              "      <th>returns_195</th>\n",
              "      <th>returns_196</th>\n",
              "      <th>returns_197</th>\n",
              "      <th>returns_198</th>\n",
              "      <th>returns_199</th>\n",
              "    </tr>\n",
              "  </thead>\n",
              "  <tbody>\n",
              "    <tr>\n",
              "      <th>0</th>\n",
              "      <td>-0.001309</td>\n",
              "      <td>0.009051</td>\n",
              "      <td>0.003752</td>\n",
              "      <td>0.006321</td>\n",
              "      <td>0.010656</td>\n",
              "      <td>0.003088</td>\n",
              "      <td>0.015518</td>\n",
              "      <td>0.008354</td>\n",
              "      <td>-0.018625</td>\n",
              "      <td>-0.003609</td>\n",
              "      <td>-0.002058</td>\n",
              "      <td>-0.004679</td>\n",
              "      <td>-0.003066</td>\n",
              "      <td>-0.016827</td>\n",
              "      <td>0.006909</td>\n",
              "      <td>-0.003618</td>\n",
              "      <td>0.011895</td>\n",
              "      <td>-0.006720</td>\n",
              "      <td>-0.004782</td>\n",
              "      <td>-0.007936</td>\n",
              "      <td>-0.009582</td>\n",
              "      <td>-0.010635</td>\n",
              "      <td>0.011638</td>\n",
              "      <td>-0.023319</td>\n",
              "      <td>0.000983</td>\n",
              "      <td>-0.000160</td>\n",
              "      <td>-0.014770</td>\n",
              "      <td>0.002514</td>\n",
              "      <td>-0.013678</td>\n",
              "      <td>-0.018882</td>\n",
              "      <td>-0.010320</td>\n",
              "      <td>0.016416</td>\n",
              "      <td>-0.008037</td>\n",
              "      <td>0.009752</td>\n",
              "      <td>0.002019</td>\n",
              "      <td>-0.033233</td>\n",
              "      <td>0.000358</td>\n",
              "      <td>0.002404</td>\n",
              "      <td>-0.000695</td>\n",
              "      <td>-0.001841</td>\n",
              "      <td>...</td>\n",
              "      <td>-0.007925</td>\n",
              "      <td>0.043795</td>\n",
              "      <td>0.016628</td>\n",
              "      <td>-0.002413</td>\n",
              "      <td>0.000283</td>\n",
              "      <td>0.003969</td>\n",
              "      <td>0.007820</td>\n",
              "      <td>-0.004147</td>\n",
              "      <td>0.022642</td>\n",
              "      <td>-0.003523</td>\n",
              "      <td>-0.022652</td>\n",
              "      <td>0.005523</td>\n",
              "      <td>-0.019103</td>\n",
              "      <td>-0.016854</td>\n",
              "      <td>-0.004310</td>\n",
              "      <td>0.002850</td>\n",
              "      <td>4.034695e-03</td>\n",
              "      <td>-0.013363</td>\n",
              "      <td>0.015274</td>\n",
              "      <td>0.008163</td>\n",
              "      <td>-0.004055</td>\n",
              "      <td>0.011053</td>\n",
              "      <td>-0.015848</td>\n",
              "      <td>0.009971</td>\n",
              "      <td>0.009459</td>\n",
              "      <td>0.007728</td>\n",
              "      <td>0.001476</td>\n",
              "      <td>0.000371</td>\n",
              "      <td>0.007528</td>\n",
              "      <td>0.005388</td>\n",
              "      <td>0.003638</td>\n",
              "      <td>-0.008826</td>\n",
              "      <td>0.036300</td>\n",
              "      <td>0.005611</td>\n",
              "      <td>-0.006915</td>\n",
              "      <td>-0.001511</td>\n",
              "      <td>0.011916</td>\n",
              "      <td>-0.011778</td>\n",
              "      <td>-0.005731</td>\n",
              "      <td>0.003837</td>\n",
              "    </tr>\n",
              "    <tr>\n",
              "      <th>1</th>\n",
              "      <td>-0.002089</td>\n",
              "      <td>-0.008966</td>\n",
              "      <td>0.005271</td>\n",
              "      <td>0.006250</td>\n",
              "      <td>-0.003797</td>\n",
              "      <td>-0.005805</td>\n",
              "      <td>-0.000216</td>\n",
              "      <td>0.006820</td>\n",
              "      <td>0.000383</td>\n",
              "      <td>-0.010654</td>\n",
              "      <td>0.002307</td>\n",
              "      <td>-0.009357</td>\n",
              "      <td>0.002722</td>\n",
              "      <td>0.016736</td>\n",
              "      <td>0.006107</td>\n",
              "      <td>0.003352</td>\n",
              "      <td>0.017181</td>\n",
              "      <td>-0.005503</td>\n",
              "      <td>-0.006055</td>\n",
              "      <td>0.010284</td>\n",
              "      <td>0.001043</td>\n",
              "      <td>-0.003288</td>\n",
              "      <td>-0.000192</td>\n",
              "      <td>0.007946</td>\n",
              "      <td>-0.007555</td>\n",
              "      <td>0.005959</td>\n",
              "      <td>0.009091</td>\n",
              "      <td>-0.000953</td>\n",
              "      <td>0.005976</td>\n",
              "      <td>0.001816</td>\n",
              "      <td>-0.015710</td>\n",
              "      <td>-0.004950</td>\n",
              "      <td>0.007785</td>\n",
              "      <td>0.009515</td>\n",
              "      <td>0.001791</td>\n",
              "      <td>-0.001596</td>\n",
              "      <td>-0.011794</td>\n",
              "      <td>0.001819</td>\n",
              "      <td>-0.002810</td>\n",
              "      <td>-0.001986</td>\n",
              "      <td>...</td>\n",
              "      <td>0.012707</td>\n",
              "      <td>0.000887</td>\n",
              "      <td>-0.008303</td>\n",
              "      <td>0.014803</td>\n",
              "      <td>0.009128</td>\n",
              "      <td>-0.006166</td>\n",
              "      <td>0.008220</td>\n",
              "      <td>0.003502</td>\n",
              "      <td>0.004723</td>\n",
              "      <td>-0.003110</td>\n",
              "      <td>-0.006706</td>\n",
              "      <td>0.003352</td>\n",
              "      <td>-0.006852</td>\n",
              "      <td>0.001958</td>\n",
              "      <td>-0.001344</td>\n",
              "      <td>0.010659</td>\n",
              "      <td>-5.124692e-07</td>\n",
              "      <td>0.009344</td>\n",
              "      <td>-0.000299</td>\n",
              "      <td>0.003172</td>\n",
              "      <td>0.006960</td>\n",
              "      <td>-0.013112</td>\n",
              "      <td>0.014759</td>\n",
              "      <td>0.011751</td>\n",
              "      <td>0.003177</td>\n",
              "      <td>0.005424</td>\n",
              "      <td>0.005274</td>\n",
              "      <td>-0.006595</td>\n",
              "      <td>-0.003016</td>\n",
              "      <td>0.002362</td>\n",
              "      <td>0.011789</td>\n",
              "      <td>0.000624</td>\n",
              "      <td>-0.004229</td>\n",
              "      <td>0.009459</td>\n",
              "      <td>-0.006305</td>\n",
              "      <td>0.007037</td>\n",
              "      <td>-0.010265</td>\n",
              "      <td>0.001787</td>\n",
              "      <td>0.015894</td>\n",
              "      <td>-0.008914</td>\n",
              "    </tr>\n",
              "    <tr>\n",
              "      <th>2</th>\n",
              "      <td>0.003633</td>\n",
              "      <td>-0.018941</td>\n",
              "      <td>0.008386</td>\n",
              "      <td>0.018492</td>\n",
              "      <td>-0.006935</td>\n",
              "      <td>-0.003875</td>\n",
              "      <td>0.005577</td>\n",
              "      <td>-0.000202</td>\n",
              "      <td>0.011739</td>\n",
              "      <td>0.000558</td>\n",
              "      <td>0.005041</td>\n",
              "      <td>0.005472</td>\n",
              "      <td>0.002227</td>\n",
              "      <td>0.010795</td>\n",
              "      <td>-0.000776</td>\n",
              "      <td>-0.004140</td>\n",
              "      <td>0.009519</td>\n",
              "      <td>-0.003413</td>\n",
              "      <td>-0.016297</td>\n",
              "      <td>-0.005164</td>\n",
              "      <td>-0.007873</td>\n",
              "      <td>-0.001605</td>\n",
              "      <td>0.007057</td>\n",
              "      <td>0.017562</td>\n",
              "      <td>0.002727</td>\n",
              "      <td>0.007350</td>\n",
              "      <td>-0.004585</td>\n",
              "      <td>-0.002682</td>\n",
              "      <td>-0.002196</td>\n",
              "      <td>-0.000262</td>\n",
              "      <td>0.004793</td>\n",
              "      <td>-0.008932</td>\n",
              "      <td>-0.012200</td>\n",
              "      <td>0.008152</td>\n",
              "      <td>0.006453</td>\n",
              "      <td>-0.000435</td>\n",
              "      <td>0.007868</td>\n",
              "      <td>-0.002954</td>\n",
              "      <td>-0.002137</td>\n",
              "      <td>-0.006098</td>\n",
              "      <td>...</td>\n",
              "      <td>-0.003114</td>\n",
              "      <td>0.008782</td>\n",
              "      <td>-0.006044</td>\n",
              "      <td>0.002831</td>\n",
              "      <td>-0.001864</td>\n",
              "      <td>-0.003675</td>\n",
              "      <td>-0.004129</td>\n",
              "      <td>0.004390</td>\n",
              "      <td>0.000724</td>\n",
              "      <td>0.005295</td>\n",
              "      <td>0.001344</td>\n",
              "      <td>-0.012444</td>\n",
              "      <td>-0.000586</td>\n",
              "      <td>-0.011747</td>\n",
              "      <td>0.007236</td>\n",
              "      <td>0.006729</td>\n",
              "      <td>7.015370e-03</td>\n",
              "      <td>-0.008016</td>\n",
              "      <td>-0.022481</td>\n",
              "      <td>-0.000031</td>\n",
              "      <td>-0.007357</td>\n",
              "      <td>-0.000801</td>\n",
              "      <td>-0.001193</td>\n",
              "      <td>-0.001865</td>\n",
              "      <td>0.004368</td>\n",
              "      <td>-0.005281</td>\n",
              "      <td>0.000849</td>\n",
              "      <td>-0.004177</td>\n",
              "      <td>-0.017478</td>\n",
              "      <td>-0.009453</td>\n",
              "      <td>-0.003527</td>\n",
              "      <td>-0.001215</td>\n",
              "      <td>-0.003485</td>\n",
              "      <td>0.022843</td>\n",
              "      <td>-0.001948</td>\n",
              "      <td>0.002919</td>\n",
              "      <td>-0.000949</td>\n",
              "      <td>-0.000743</td>\n",
              "      <td>-0.002745</td>\n",
              "      <td>-0.010555</td>\n",
              "    </tr>\n",
              "    <tr>\n",
              "      <th>3</th>\n",
              "      <td>0.008709</td>\n",
              "      <td>0.008726</td>\n",
              "      <td>-0.022394</td>\n",
              "      <td>0.014256</td>\n",
              "      <td>0.004037</td>\n",
              "      <td>0.003058</td>\n",
              "      <td>0.001353</td>\n",
              "      <td>0.002409</td>\n",
              "      <td>0.000835</td>\n",
              "      <td>-0.012416</td>\n",
              "      <td>-0.005526</td>\n",
              "      <td>-0.004500</td>\n",
              "      <td>-0.000296</td>\n",
              "      <td>0.007289</td>\n",
              "      <td>0.014778</td>\n",
              "      <td>0.007885</td>\n",
              "      <td>0.019305</td>\n",
              "      <td>-0.010802</td>\n",
              "      <td>0.001727</td>\n",
              "      <td>0.009034</td>\n",
              "      <td>0.002281</td>\n",
              "      <td>-0.003148</td>\n",
              "      <td>0.004357</td>\n",
              "      <td>0.006231</td>\n",
              "      <td>0.000078</td>\n",
              "      <td>-0.004458</td>\n",
              "      <td>0.004801</td>\n",
              "      <td>0.001495</td>\n",
              "      <td>0.003413</td>\n",
              "      <td>0.006646</td>\n",
              "      <td>-0.005248</td>\n",
              "      <td>-0.003008</td>\n",
              "      <td>-0.000380</td>\n",
              "      <td>-0.005334</td>\n",
              "      <td>0.011518</td>\n",
              "      <td>-0.003309</td>\n",
              "      <td>0.005282</td>\n",
              "      <td>-0.024674</td>\n",
              "      <td>0.006574</td>\n",
              "      <td>0.013176</td>\n",
              "      <td>...</td>\n",
              "      <td>0.003683</td>\n",
              "      <td>-0.012579</td>\n",
              "      <td>0.006390</td>\n",
              "      <td>0.030042</td>\n",
              "      <td>-0.011574</td>\n",
              "      <td>-0.002524</td>\n",
              "      <td>-0.006349</td>\n",
              "      <td>0.011321</td>\n",
              "      <td>-0.004089</td>\n",
              "      <td>-0.004598</td>\n",
              "      <td>-0.001559</td>\n",
              "      <td>-0.011469</td>\n",
              "      <td>-0.001025</td>\n",
              "      <td>0.010816</td>\n",
              "      <td>0.000037</td>\n",
              "      <td>-0.002984</td>\n",
              "      <td>3.361493e-03</td>\n",
              "      <td>-0.005337</td>\n",
              "      <td>-0.006871</td>\n",
              "      <td>0.002933</td>\n",
              "      <td>-0.013811</td>\n",
              "      <td>0.007849</td>\n",
              "      <td>0.000077</td>\n",
              "      <td>0.018464</td>\n",
              "      <td>-0.013630</td>\n",
              "      <td>-0.015182</td>\n",
              "      <td>0.005426</td>\n",
              "      <td>-0.012302</td>\n",
              "      <td>0.004830</td>\n",
              "      <td>0.004114</td>\n",
              "      <td>0.000835</td>\n",
              "      <td>-0.001246</td>\n",
              "      <td>0.010356</td>\n",
              "      <td>0.002814</td>\n",
              "      <td>0.004090</td>\n",
              "      <td>0.000902</td>\n",
              "      <td>0.007269</td>\n",
              "      <td>0.007861</td>\n",
              "      <td>0.003012</td>\n",
              "      <td>-0.009717</td>\n",
              "    </tr>\n",
              "    <tr>\n",
              "      <th>4</th>\n",
              "      <td>0.002252</td>\n",
              "      <td>-0.006167</td>\n",
              "      <td>-0.003598</td>\n",
              "      <td>0.016197</td>\n",
              "      <td>0.004114</td>\n",
              "      <td>-0.005218</td>\n",
              "      <td>-0.003864</td>\n",
              "      <td>0.008508</td>\n",
              "      <td>0.004407</td>\n",
              "      <td>-0.002660</td>\n",
              "      <td>-0.013083</td>\n",
              "      <td>0.002194</td>\n",
              "      <td>0.005036</td>\n",
              "      <td>0.013828</td>\n",
              "      <td>-0.000712</td>\n",
              "      <td>-0.006110</td>\n",
              "      <td>-0.004909</td>\n",
              "      <td>-0.001241</td>\n",
              "      <td>-0.003587</td>\n",
              "      <td>0.008135</td>\n",
              "      <td>0.005904</td>\n",
              "      <td>0.008352</td>\n",
              "      <td>-0.000023</td>\n",
              "      <td>0.004188</td>\n",
              "      <td>-0.007059</td>\n",
              "      <td>0.000209</td>\n",
              "      <td>-0.004533</td>\n",
              "      <td>-0.006429</td>\n",
              "      <td>0.007310</td>\n",
              "      <td>0.000726</td>\n",
              "      <td>-0.011816</td>\n",
              "      <td>-0.001326</td>\n",
              "      <td>0.005759</td>\n",
              "      <td>-0.005811</td>\n",
              "      <td>-0.006144</td>\n",
              "      <td>-0.011352</td>\n",
              "      <td>0.000576</td>\n",
              "      <td>0.002930</td>\n",
              "      <td>-0.005890</td>\n",
              "      <td>0.000247</td>\n",
              "      <td>...</td>\n",
              "      <td>-0.002416</td>\n",
              "      <td>0.007912</td>\n",
              "      <td>0.008570</td>\n",
              "      <td>0.000282</td>\n",
              "      <td>0.009477</td>\n",
              "      <td>-0.002140</td>\n",
              "      <td>0.000868</td>\n",
              "      <td>0.017365</td>\n",
              "      <td>-0.001397</td>\n",
              "      <td>-0.009007</td>\n",
              "      <td>-0.009196</td>\n",
              "      <td>-0.004844</td>\n",
              "      <td>-0.007264</td>\n",
              "      <td>0.009802</td>\n",
              "      <td>-0.001234</td>\n",
              "      <td>-0.001329</td>\n",
              "      <td>-1.086212e-02</td>\n",
              "      <td>0.002440</td>\n",
              "      <td>0.016373</td>\n",
              "      <td>-0.000712</td>\n",
              "      <td>-0.002076</td>\n",
              "      <td>0.001606</td>\n",
              "      <td>0.007748</td>\n",
              "      <td>0.001684</td>\n",
              "      <td>-0.008487</td>\n",
              "      <td>-0.003103</td>\n",
              "      <td>0.008519</td>\n",
              "      <td>-0.008598</td>\n",
              "      <td>0.012044</td>\n",
              "      <td>-0.012082</td>\n",
              "      <td>0.010290</td>\n",
              "      <td>0.005917</td>\n",
              "      <td>-0.001828</td>\n",
              "      <td>0.009001</td>\n",
              "      <td>-0.018190</td>\n",
              "      <td>0.002139</td>\n",
              "      <td>-0.000141</td>\n",
              "      <td>0.009069</td>\n",
              "      <td>-0.023668</td>\n",
              "      <td>0.019164</td>\n",
              "    </tr>\n",
              "  </tbody>\n",
              "</table>\n",
              "<p>5 rows × 200 columns</p>\n",
              "</div>"
            ],
            "text/plain": [
              "   returns_0  returns_1  returns_2  ...  returns_197  returns_198  returns_199\n",
              "0  -0.001309   0.009051   0.003752  ...    -0.011778    -0.005731     0.003837\n",
              "1  -0.002089  -0.008966   0.005271  ...     0.001787     0.015894    -0.008914\n",
              "2   0.003633  -0.018941   0.008386  ...    -0.000743    -0.002745    -0.010555\n",
              "3   0.008709   0.008726  -0.022394  ...     0.007861     0.003012    -0.009717\n",
              "4   0.002252  -0.006167  -0.003598  ...     0.009069    -0.023668     0.019164\n",
              "\n",
              "[5 rows x 200 columns]"
            ]
          },
          "metadata": {
            "tags": []
          },
          "execution_count": 17
        }
      ]
    },
    {
      "cell_type": "code",
      "metadata": {
        "id": "GgQN4DM2w6tI",
        "colab_type": "code",
        "colab": {}
      },
      "source": [
        "percentile_5th = simulated_portfolios.cumsum().apply(lambda x : np.percentile(x,5),axis=1)\n",
        "percentile_95th = simulated_portfolios.cumsum().apply(lambda x : np.percentile(x,95),axis=1)\n",
        "average_port = simulated_portfolios.cumsum().apply(lambda x : np.mean(x),axis=1)"
      ],
      "execution_count": 0,
      "outputs": []
    },
    {
      "cell_type": "code",
      "metadata": {
        "id": "ZPcvdgZDrPAt",
        "colab_type": "code",
        "outputId": "cfd5ffda-8fb5-4c72-951a-1a800a7b67a7",
        "colab": {
          "base_uri": "https://localhost:8080/",
          "height": 119
        }
      },
      "source": [
        "print(percentile_5th.tail(1))\n",
        "print(percentile_95th.tail(1))\n",
        "print(average_port.tail(1))"
      ],
      "execution_count": 0,
      "outputs": [
        {
          "output_type": "stream",
          "text": [
            "19   -0.052644\n",
            "dtype: float64\n",
            "19    0.082925\n",
            "dtype: float64\n",
            "19    0.009688\n",
            "dtype: float64\n"
          ],
          "name": "stdout"
        }
      ]
    },
    {
      "cell_type": "markdown",
      "metadata": {
        "id": "F7gX5ieX--Yn",
        "colab_type": "text"
      },
      "source": [
        "# Confidence interval for future portfolios"
      ]
    },
    {
      "cell_type": "code",
      "metadata": {
        "id": "LswcN1H2yNzo",
        "colab_type": "code",
        "outputId": "2d2737d7-2e17-46f2-8f35-74044f45df88",
        "colab": {
          "base_uri": "https://localhost:8080/",
          "height": 606
        }
      },
      "source": [
        "x = range(forecast_days)\n",
        "\n",
        "plt.rcParams['figure.figsize'] = [10, 10]\n",
        "\n",
        "plt.plot(x,average_port,label=\"Average portfolio\")\n",
        "plt.xlabel(\"Day\")\n",
        "plt.ylabel(\"Portfolio return\")\n",
        "\n",
        "\n",
        "plt.fill_between(x, percentile_5th, percentile_95th,alpha=0.2)\n",
        "plt.grid()\n",
        "plt.legend()\n",
        "\n",
        "plt.show()"
      ],
      "execution_count": 0,
      "outputs": [
        {
          "output_type": "display_data",
          "data": {
            "image/png": "[encoded data removed]",
            "text/plain": [
              "<Figure size 720x720 with 1 Axes>"
            ]
          },
          "metadata": {
            "tags": [],
            "needs_background": "light"
          }
        }
      ]
    },
    {
      "cell_type": "markdown",
      "metadata": {
        "id": "Xlddk3Kw_Dmz",
        "colab_type": "text"
      },
      "source": [
        "# Probability of beating the portfolio target"
      ]
    },
    {
      "cell_type": "code",
      "metadata": {
        "id": "qf94XcPMpuCS",
        "colab_type": "code",
        "colab": {}
      },
      "source": [
        "target_return = 0.02\n",
        "\n",
        "target_prob_port = simulated_portfolios.cumsum().apply(lambda x : np.mean(x > target_return),axis=1)"
      ],
      "execution_count": 0,
      "outputs": []
    },
    {
      "cell_type": "code",
      "metadata": {
        "id": "uRaHYTtVt7rn",
        "colab_type": "code",
        "outputId": "e076f8ab-e99b-4207-f6ec-5ecf7425300e",
        "colab": {
          "base_uri": "https://localhost:8080/",
          "height": 51
        }
      },
      "source": [
        "target_prob_port.tail(1)"
      ],
      "execution_count": 0,
      "outputs": [
        {
          "output_type": "execute_result",
          "data": {
            "text/plain": [
              "19    0.38\n",
              "dtype: float64"
            ]
          },
          "metadata": {
            "tags": []
          },
          "execution_count": 28
        }
      ]
    },
    {
      "cell_type": "code",
      "metadata": {
        "id": "00UxQ1y75Ki_",
        "colab_type": "code",
        "colab": {}
      },
      "source": [
        "err_bars = np.sqrt(target_prob_port*(1-target_prob_port)/n_iterations)"
      ],
      "execution_count": 0,
      "outputs": []
    },
    {
      "cell_type": "code",
      "metadata": {
        "id": "1FckQZp5t9bx",
        "colab_type": "code",
        "outputId": "12b2431b-4778-49f2-99e6-8568a356c112",
        "colab": {
          "base_uri": "https://localhost:8080/",
          "height": 51
        }
      },
      "source": [
        "err_bars.tail(1)"
      ],
      "execution_count": 0,
      "outputs": [
        {
          "output_type": "execute_result",
          "data": {
            "text/plain": [
              "19    0.034322\n",
              "dtype: float64"
            ]
          },
          "metadata": {
            "tags": []
          },
          "execution_count": 29
        }
      ]
    },
    {
      "cell_type": "code",
      "metadata": {
        "id": "2Q1A5eEGz8Zz",
        "colab_type": "code",
        "outputId": "60dd7433-3df2-426a-c80d-3b761bc47d4d",
        "colab": {
          "base_uri": "https://localhost:8080/",
          "height": 606
        }
      },
      "source": [
        "x = range(forecast_days)\n",
        "\n",
        "plt.rcParams['figure.figsize'] = [10, 10]\n",
        "\n",
        "plt.bar(x,target_prob_port,yerr = err_bars)\n",
        "\n",
        "plt.xlabel(\"Day\")\n",
        "plt.ylabel(\"Probability of return >= %.2f\" % (target_return))\n",
        "\n",
        "plt.grid()\n",
        "\n",
        "plt.show()"
      ],
      "execution_count": 0,
      "outputs": [
        {
          "output_type": "display_data",
          "data": {
            "image/png": "[encoded data removed]",
            "text/plain": [
              "<Figure size 720x720 with 1 Axes>"
            ]
          },
          "metadata": {
            "tags": [],
            "needs_background": "light"
          }
        }
      ]
    },
    {
      "cell_type": "markdown",
      "metadata": {
        "id": "j5O7pSMa_JCI",
        "colab_type": "text"
      },
      "source": [
        "#Sharpe ratio histogram"
      ]
    },
    {
      "cell_type": "code",
      "metadata": {
        "id": "Qi3zYqAMpxF_",
        "colab_type": "code",
        "colab": {}
      },
      "source": [
        "sharpe_indices = simulated_portfolios.apply(lambda x : np.mean(x)/np.std(x))"
      ],
      "execution_count": 0,
      "outputs": []
    },
    {
      "cell_type": "code",
      "metadata": {
        "id": "as-9lsNC2Dgh",
        "colab_type": "code",
        "outputId": "0b12a053-b0fe-4410-d28e-d869961c8394",
        "colab": {
          "base_uri": "https://localhost:8080/",
          "height": 606
        }
      },
      "source": [
        "plt.hist(sharpe_indices,bins=\"rice\")\n",
        "plt.xlabel(\"Sharpe ratio\")\n",
        "\n",
        "plt.show()"
      ],
      "execution_count": 0,
      "outputs": [
        {
          "output_type": "display_data",
          "data": {
            "image/png": "[encoded data removed]",
            "text/plain": [
              "<Figure size 720x720 with 1 Axes>"
            ]
          },
          "metadata": {
            "tags": [],
            "needs_background": "light"
          }
        }
      ]
    },
    {
      "cell_type": "markdown",
      "metadata": {
        "id": "aGAiks_L_OGV",
        "colab_type": "text"
      },
      "source": [
        "# Sharpe ratio mean value"
      ]
    },
    {
      "cell_type": "code",
      "metadata": {
        "id": "WXgD2o9A-eWy",
        "colab_type": "code",
        "outputId": "bce67783-0f2b-4ae0-aa4e-08d6eae30112",
        "colab": {
          "base_uri": "https://localhost:8080/",
          "height": 34
        }
      },
      "source": [
        "np.mean(sharpe_indices)"
      ],
      "execution_count": 0,
      "outputs": [
        {
          "output_type": "execute_result",
          "data": {
            "text/plain": [
              "0.057974847585896196"
            ]
          },
          "metadata": {
            "tags": []
          },
          "execution_count": 25
        }
      ]
    }
  ]
}